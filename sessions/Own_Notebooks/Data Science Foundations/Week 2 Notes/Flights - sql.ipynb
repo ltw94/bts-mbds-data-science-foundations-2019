{
 "cells": [
  {
   "cell_type": "code",
   "execution_count": 4,
   "metadata": {},
   "outputs": [],
   "source": [
    "import os\n",
    "os.chdir('/users/laurencewilliams/BTS/Test')\n",
    "import numpy as np\n",
    "import pandas as pd\n",
    "import sqlite3"
   ]
  },
  {
   "cell_type": "code",
   "execution_count": 6,
   "metadata": {},
   "outputs": [],
   "source": [
    "def create_connection(db_name):\n",
    "    \"\"\"Opens or creates conenction\"\"\"\n",
    "    connection = sqlite3.connect(db_name)\n",
    "    cursor = connection.cursor()\n",
    "    \n",
    "    return connection, cursor\n",
    "\n",
    "def commit_close(conn, c, close_connection=True):\n",
    "    \"\"\"commits to connection and closes if close_connection is True\"\"\"\n",
    "    conn.commit()\n",
    "    \n",
    "    if close_connection == True:\n",
    "        c.close()\n",
    "        conn.close()\n",
    "    if close_connection == True:\n",
    "        pass"
   ]
  },
  {
   "cell_type": "code",
   "execution_count": 35,
   "metadata": {},
   "outputs": [
    {
     "name": "stdout",
     "output_type": "stream",
     "text": [
      "[('airports',), ('airlines',), ('routes',)]\n"
     ]
    }
   ],
   "source": [
    "connection, cursor = create_connection('flights.db')\n",
    "cursor.execute(\"SELECT name FROM SQLite_master WHERE type = 'table';\")\n",
    "tables = cursor.fetchall()\n",
    "print(tables)"
   ]
  },
  {
   "cell_type": "code",
   "execution_count": 38,
   "metadata": {},
   "outputs": [
    {
     "data": {
      "text/plain": [
       "[('airports',), ('airlines',), ('routes',)]"
      ]
     },
     "execution_count": 38,
     "metadata": {},
     "output_type": "execute_result"
    }
   ],
   "source": [
    "cursor.execute(\"SELECT name FROM SQLite_master WHERE type = 'table';\")\n",
    "tables = cursor.fetchall()\n",
    "tables"
   ]
  },
  {
   "cell_type": "markdown",
   "metadata": {},
   "source": [
    "Get columns present in each table"
   ]
  },
  {
   "cell_type": "code",
   "execution_count": 44,
   "metadata": {},
   "outputs": [
    {
     "name": "stdout",
     "output_type": "stream",
     "text": [
      "Table name airports\n",
      "['index', 'id', 'name', 'city', 'country', 'code', 'icao', 'latitude', 'longitude', 'altitude', 'offset', 'dst', 'timezone']\n",
      "Table name airlines\n",
      "['index', 'id', 'name', 'alias', 'iata', 'icao', 'callsign', 'country', 'active']\n",
      "Table name routes\n",
      "['index', 'airline', 'airline_id', 'source', 'source_id', 'dest', 'dest_id', 'codeshare', 'stops', 'equipment']\n"
     ]
    }
   ],
   "source": [
    "for table in tables:\n",
    "    print(\"Table name\", table[0])\n",
    "    cursor.execute('PRAGMA TABLE_INFO({});'.format(table[0]))\n",
    "\n",
    "    names = [tup[1] for tup in cursor.fetchall()]\n",
    "    print(names)\n",
    "    "
   ]
  },
  {
   "cell_type": "code",
   "execution_count": 45,
   "metadata": {},
   "outputs": [
    {
     "name": "stdout",
     "output_type": "stream",
     "text": [
      "Table airports contains 8107 rows\n",
      "Table airlines contains 6048 rows\n",
      "Table routes contains 67663 rows\n"
     ]
    }
   ],
   "source": [
    "#Get the number of rows per table\n",
    "\n",
    "for table in tables:\n",
    "    num_rows = cursor.execute('SELECT COUNT(*) FROM {};'.format(table[0]))\n",
    "    values = num_rows.fetchone() #like fetchall, normally used when functioning as an iterator\n",
    "    print(\"Table\", table[0], \"contains\", values[0], \"rows\")"
   ]
  },
  {
   "cell_type": "code",
   "execution_count": 46,
   "metadata": {},
   "outputs": [],
   "source": [
    "commit_close(conn=connection, c=cursor, close_connection=True)"
   ]
  },
  {
   "cell_type": "markdown",
   "metadata": {},
   "source": [
    "Download [this Sqlite database](https://github.com/vfp1/bts-mbds-data-science-foundations-2019/raw/master/sessions/data/flights.db)\n",
    "\n",
    "Using SQLite database reply the following questions:\n",
    "\n",
    "*   Which is the country that has the least amount of active airlines?\n",
    "*   And which is the country that has the most amount of active airlines?\n",
    "*   Which is the country that has more airports?\n",
    "*   And the country with the least airports?\n",
    "*   Which country has the most outgoing destinations? And the least?\n",
    "*   And which country has the most incoming destinations? And the least?\n",
    "\n"
   ]
  },
  {
   "cell_type": "markdown",
   "metadata": {},
   "source": [
    "* Which is the country that has the least amount of active airlines?\n",
    "\n",
    "Step 1 --> need to slice the country and the active from teh database airlines table\n",
    "\n",
    "Step 2 --> need to sortby country and count the number of Y; the one with the least is the solution."
   ]
  },
  {
   "cell_type": "code",
   "execution_count": null,
   "metadata": {},
   "outputs": [],
   "source": [
    "#Step 1 define function to convert Y into interger\n",
    "\n",
    "def convert_integer():\n",
    "    c.execute(\"SELECT active from \""
   ]
  }
 ],
 "metadata": {
  "kernelspec": {
   "display_name": "Python 3",
   "language": "python",
   "name": "python3"
  },
  "language_info": {
   "codemirror_mode": {
    "name": "ipython",
    "version": 3
   },
   "file_extension": ".py",
   "mimetype": "text/x-python",
   "name": "python",
   "nbconvert_exporter": "python",
   "pygments_lexer": "ipython3",
   "version": "3.7.3"
  }
 },
 "nbformat": 4,
 "nbformat_minor": 2
}
