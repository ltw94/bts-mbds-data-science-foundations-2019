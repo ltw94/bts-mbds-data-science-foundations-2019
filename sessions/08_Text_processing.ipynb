{
  "nbformat": 4,
  "nbformat_minor": 0,
  "metadata": {
    "colab": {
      "name": "08_Text_processing.ipynb",
      "provenance": [],
      "collapsed_sections": [
        "2QHBivImfOvp",
        "uUrOgHNmelLB",
        "ZjJ5na1b-O92"
      ]
    },
    "kernelspec": {
      "name": "python3",
      "display_name": "Python 3"
    },
    "accelerator": "GPU"
  },
  "cells": [
    {
      "cell_type": "markdown",
      "metadata": {
        "id": "_a2hajcA99-K",
        "colab_type": "text"
      },
      "source": [
        "![BTS](https://github.com/vfp1/bts-mbds-data-science-foundations-2019/blob/master/sessions/img/Logo-BTS.jpg?raw=1)\n",
        "\n",
        "# Session 8: Text processing - Introduction to Spacy\n",
        "\n",
        "### Victor F. Pajuelo Madrigal <victor.pajuelo@bts.tech> - Data Science Foundations (2019-10-17)\n",
        "\n",
        "Open this notebook in Google Colaboratory: [![Open in Colab](https://colab.research.google.com/assets/colab-badge.svg)](https://colab.research.google.com/github/vfp1/bts-mbds-data-science-foundations-2019/blob/master/sessions/08_Text_processing.ipynb)\n",
        "\n",
        "**Resources:**\n"
      ]
    },
    {
      "cell_type": "markdown",
      "metadata": {
        "id": "DTIcPknwQz5z",
        "colab_type": "text"
      },
      "source": [
        "# Spacy installation\n",
        "\n",
        "```\n",
        "$ conda activate bts36\n",
        "$ conda install -c conda-forge spacy\n",
        "```\n",
        "\n"
      ]
    },
    {
      "cell_type": "markdown",
      "metadata": {
        "id": "Oabpc-xuVxAQ",
        "colab_type": "text"
      },
      "source": [
        "# Spacy introduction"
      ]
    },
    {
      "cell_type": "markdown",
      "metadata": {
        "id": "2QHBivImfOvp",
        "colab_type": "text"
      },
      "source": [
        "## Import language models \n",
        "\n",
        "\n",
        "\n",
        "```\n",
        "$ python -m spacy download en_core_web_sm\n",
        "$ python -m spacy download en\n",
        "```\n",
        "\n"
      ]
    },
    {
      "cell_type": "code",
      "metadata": {
        "id": "nPv81PAORYB7",
        "colab_type": "code",
        "colab": {
          "base_uri": "https://localhost:8080/",
          "height": 88
        },
        "outputId": "1604fba5-07fc-4c25-d486-8d2fdd2cf623"
      },
      "source": [
        "!python -m spacy download en_core_web_sm"
      ],
      "execution_count": 3,
      "outputs": [
        {
          "output_type": "stream",
          "text": [
            "Requirement already satisfied: en_core_web_sm==2.1.0 from https://github.com/explosion/spacy-models/releases/download/en_core_web_sm-2.1.0/en_core_web_sm-2.1.0.tar.gz#egg=en_core_web_sm==2.1.0 in /usr/local/lib/python3.6/dist-packages (2.1.0)\n",
            "\u001b[38;5;2m✔ Download and installation successful\u001b[0m\n",
            "You can now load the model via spacy.load('en_core_web_sm')\n"
          ],
          "name": "stdout"
        }
      ]
    },
    {
      "cell_type": "code",
      "metadata": {
        "id": "8mQRg-8jfzDI",
        "colab_type": "code",
        "colab": {
          "base_uri": "https://localhost:8080/",
          "height": 156
        },
        "outputId": "fde47e21-fdaf-41ae-8dea-cf6321d1ade4"
      },
      "source": [
        "!python -m spacy download en"
      ],
      "execution_count": 4,
      "outputs": [
        {
          "output_type": "stream",
          "text": [
            "Requirement already satisfied: en_core_web_sm==2.1.0 from https://github.com/explosion/spacy-models/releases/download/en_core_web_sm-2.1.0/en_core_web_sm-2.1.0.tar.gz#egg=en_core_web_sm==2.1.0 in /usr/local/lib/python3.6/dist-packages (2.1.0)\n",
            "\u001b[38;5;2m✔ Download and installation successful\u001b[0m\n",
            "You can now load the model via spacy.load('en_core_web_sm')\n",
            "\u001b[38;5;2m✔ Linking successful\u001b[0m\n",
            "/usr/local/lib/python3.6/dist-packages/en_core_web_sm -->\n",
            "/usr/local/lib/python3.6/dist-packages/spacy/data/en\n",
            "You can now load the model via spacy.load('en')\n"
          ],
          "name": "stdout"
        }
      ]
    },
    {
      "cell_type": "markdown",
      "metadata": {
        "id": "UmwJHdwEU4uM",
        "colab_type": "text"
      },
      "source": [
        "Once the model is downloaded and installed, we can load it as follows:"
      ]
    },
    {
      "cell_type": "code",
      "metadata": {
        "id": "IuuFgOdRRWif",
        "colab_type": "code",
        "colab": {}
      },
      "source": [
        "import spacy\n",
        "nlp = spacy.load(\"en_core_web_sm\")"
      ],
      "execution_count": 0,
      "outputs": []
    },
    {
      "cell_type": "markdown",
      "metadata": {
        "id": "oDZS9UkeY3Td",
        "colab_type": "text"
      },
      "source": [
        "## Linguistic annotations\n",
        "\n",
        "spaCy's linguistic annotation types:\n",
        "\n",
        "*   Word types\n",
        "*   Parts of speech\n",
        "*   How words are related to each other\n",
        "\n"
      ]
    },
    {
      "cell_type": "markdown",
      "metadata": {
        "id": "b-H7rJT8WNrg",
        "colab_type": "text"
      },
      "source": [
        "### Word and sentence tokenization"
      ]
    },
    {
      "cell_type": "code",
      "metadata": {
        "id": "Nuob2h_df3mp",
        "colab_type": "code",
        "colab": {}
      },
      "source": [
        "import spacy\n",
        "nlp = spacy.load(\"en_core_web_sm\")"
      ],
      "execution_count": 0,
      "outputs": []
    },
    {
      "cell_type": "code",
      "metadata": {
        "id": "kNGRET97Wj9R",
        "colab_type": "code",
        "colab": {}
      },
      "source": [
        "text_sentence_1 = \"This is a class about text processing.\""
      ],
      "execution_count": 0,
      "outputs": []
    },
    {
      "cell_type": "code",
      "metadata": {
        "id": "MX8sFJkkW1OJ",
        "colab_type": "code",
        "colab": {
          "base_uri": "https://localhost:8080/",
          "height": 34
        },
        "outputId": "5231e5c0-db5f-4797-bec8-f161eecbb316"
      },
      "source": [
        "# We pass the sentence to the doc\n",
        "doc1 = nlp(text_sentence_1)\n",
        "type(doc1)"
      ],
      "execution_count": 12,
      "outputs": [
        {
          "output_type": "execute_result",
          "data": {
            "text/plain": [
              "spacy.tokens.doc.Doc"
            ]
          },
          "metadata": {
            "tags": []
          },
          "execution_count": 12
        }
      ]
    },
    {
      "cell_type": "markdown",
      "metadata": {
        "id": "BX67YuReZgbC",
        "colab_type": "text"
      },
      "source": [
        "[What is a **Doc**?](https://spacy.io/api/doc) It is a sequence of Token objects. Access sentences and named entities, export annotations to numpy arrays, losslessly serialize to compressed binary strings.\n",
        "\n",
        "And [what is a **Token**?](https://spacy.io/api/token) It is a word, punctuation symbol, whitespace, etcetera."
      ]
    },
    {
      "cell_type": "code",
      "metadata": {
        "id": "aLRjNrFIX87p",
        "colab_type": "code",
        "colab": {
          "base_uri": "https://localhost:8080/",
          "height": 153
        },
        "outputId": "ded66c0b-ec86-4cb9-d73d-bb01dec9d2e4"
      },
      "source": [
        "# Let's tokenize th sentence\n",
        "for token in doc1:\n",
        "    print(token)"
      ],
      "execution_count": 11,
      "outputs": [
        {
          "output_type": "stream",
          "text": [
            "This\n",
            "is\n",
            "a\n",
            "class\n",
            "about\n",
            "text\n",
            "processing\n",
            ".\n"
          ],
          "name": "stdout"
        }
      ]
    },
    {
      "cell_type": "code",
      "metadata": {
        "id": "iHZ3mJkDbsHk",
        "colab_type": "code",
        "colab": {
          "base_uri": "https://localhost:8080/",
          "height": 34
        },
        "outputId": "2eda94ce-1c1d-4cd6-91e8-1bba2433cd0b"
      },
      "source": [
        "doc1[0]"
      ],
      "execution_count": 17,
      "outputs": [
        {
          "output_type": "execute_result",
          "data": {
            "text/plain": [
              "This"
            ]
          },
          "metadata": {
            "tags": []
          },
          "execution_count": 17
        }
      ]
    },
    {
      "cell_type": "code",
      "metadata": {
        "id": "kCs2uD4ubz7h",
        "colab_type": "code",
        "colab": {
          "base_uri": "https://localhost:8080/",
          "height": 34
        },
        "outputId": "62a77f44-2ce8-4cd3-f9ed-84bd80c2cf66"
      },
      "source": [
        "doc1[-1]"
      ],
      "execution_count": 16,
      "outputs": [
        {
          "output_type": "execute_result",
          "data": {
            "text/plain": [
              "."
            ]
          },
          "metadata": {
            "tags": []
          },
          "execution_count": 16
        }
      ]
    },
    {
      "cell_type": "markdown",
      "metadata": {
        "id": "MwZLWEsWaill",
        "colab_type": "text"
      },
      "source": [
        "#### Linguistic features/annotation\n",
        "spaCy does not only have a record the position as if we will be splitting the sentence. spaCy records the grammatical structure of the sentence. \n",
        "\n",
        "So after tokenization (splitting the sentence into the individual components), spaCy can do **Part-of-speech** (POS) tagging. This is done by using spaCy's statistical models to make predictions of what each token is. For instance, a word following \"the\" in the English is most likely a noun. And that's why we need language models.\n",
        "\n",
        "---\n",
        "\n",
        "We have the following features that we can get per token:\n",
        "\n",
        "*   **Text**: The original word text.\n",
        "*   **Lemma**: The base form of the word.\n",
        "*   **POS**: The simple part-of-speech tag.\n",
        "*   **Tag**: The detailed part-of-speech tag.\n",
        "*   **Dep**: Syntactic dependency, i.e. the relation between tokens.\n",
        "*   **Shape**: The word shape – capitalization, punctuation, digits.\n",
        "*   **is alpha**: Is the token an alpha character?\n",
        "*   **is stop**: Is the token part of a stop list, i.e. the most common words of the language?\n",
        "\n",
        "\n",
        "\n"
      ]
    },
    {
      "cell_type": "code",
      "metadata": {
        "id": "jfW-ItssX_V3",
        "colab_type": "code",
        "colab": {
          "base_uri": "https://localhost:8080/",
          "height": 255
        },
        "outputId": "f7dcc408-3086-4905-80dc-9cbf6302e346"
      },
      "source": [
        "text_sentence_2 = \"The coffee this morning costed me $4, that is extremely expensive!\"\n",
        "doc2 = nlp(text_sentence_2)\n",
        "\n",
        "for token in doc2:\n",
        "    print(token.text, token.pos_, token.dep_)"
      ],
      "execution_count": 23,
      "outputs": [
        {
          "output_type": "stream",
          "text": [
            "The DET det\n",
            "coffee NOUN nsubj\n",
            "this DET det\n",
            "morning NOUN npadvmod\n",
            "costed VERB ROOT\n",
            "me PRON dative\n",
            "$ SYM nmod\n",
            "4 NUM dobj\n",
            ", PUNCT punct\n",
            "that DET nsubj\n",
            "is VERB ccomp\n",
            "extremely ADV advmod\n",
            "expensive ADJ acomp\n",
            "! PUNCT punct\n"
          ],
          "name": "stdout"
        }
      ]
    },
    {
      "cell_type": "code",
      "metadata": {
        "id": "4wRjlK2uh4pL",
        "colab_type": "code",
        "colab": {
          "base_uri": "https://localhost:8080/",
          "height": 483
        },
        "outputId": "44061668-b43e-4d0d-b1c1-4a579a9499c5"
      },
      "source": [
        "# We can build a Pandas Dataframe with the contents of a token/doc loop, just for nice visualization\n",
        "import pandas as pd\n",
        "\n",
        "d = []\n",
        "for token in doc2:\n",
        "    d.append({'TEXT': token.text, 'LEMMA': token.lemma_, \n",
        "              'POS': token.pos_, 'TAG': token.tag_,\n",
        "              'DEP': token.dep_, 'SHAPE': token.shape_,\n",
        "              'ALPHA': token.is_alpha, 'STOP': token.is_stop})\n",
        "\n",
        "spacy_dataframe = pd.DataFrame(d)\n",
        "spacy_dataframe"
      ],
      "execution_count": 28,
      "outputs": [
        {
          "output_type": "execute_result",
          "data": {
            "text/html": [
              "<div>\n",
              "<style scoped>\n",
              "    .dataframe tbody tr th:only-of-type {\n",
              "        vertical-align: middle;\n",
              "    }\n",
              "\n",
              "    .dataframe tbody tr th {\n",
              "        vertical-align: top;\n",
              "    }\n",
              "\n",
              "    .dataframe thead th {\n",
              "        text-align: right;\n",
              "    }\n",
              "</style>\n",
              "<table border=\"1\" class=\"dataframe\">\n",
              "  <thead>\n",
              "    <tr style=\"text-align: right;\">\n",
              "      <th></th>\n",
              "      <th>TEXT</th>\n",
              "      <th>LEMMA</th>\n",
              "      <th>POS</th>\n",
              "      <th>TAG</th>\n",
              "      <th>DEP</th>\n",
              "      <th>SHAPE</th>\n",
              "      <th>ALPHA</th>\n",
              "      <th>STOP</th>\n",
              "    </tr>\n",
              "  </thead>\n",
              "  <tbody>\n",
              "    <tr>\n",
              "      <th>0</th>\n",
              "      <td>The</td>\n",
              "      <td>the</td>\n",
              "      <td>DET</td>\n",
              "      <td>DT</td>\n",
              "      <td>det</td>\n",
              "      <td>Xxx</td>\n",
              "      <td>True</td>\n",
              "      <td>True</td>\n",
              "    </tr>\n",
              "    <tr>\n",
              "      <th>1</th>\n",
              "      <td>coffee</td>\n",
              "      <td>coffee</td>\n",
              "      <td>NOUN</td>\n",
              "      <td>NN</td>\n",
              "      <td>nsubj</td>\n",
              "      <td>xxxx</td>\n",
              "      <td>True</td>\n",
              "      <td>False</td>\n",
              "    </tr>\n",
              "    <tr>\n",
              "      <th>2</th>\n",
              "      <td>this</td>\n",
              "      <td>this</td>\n",
              "      <td>DET</td>\n",
              "      <td>DT</td>\n",
              "      <td>det</td>\n",
              "      <td>xxxx</td>\n",
              "      <td>True</td>\n",
              "      <td>True</td>\n",
              "    </tr>\n",
              "    <tr>\n",
              "      <th>3</th>\n",
              "      <td>morning</td>\n",
              "      <td>morning</td>\n",
              "      <td>NOUN</td>\n",
              "      <td>NN</td>\n",
              "      <td>npadvmod</td>\n",
              "      <td>xxxx</td>\n",
              "      <td>True</td>\n",
              "      <td>False</td>\n",
              "    </tr>\n",
              "    <tr>\n",
              "      <th>4</th>\n",
              "      <td>costed</td>\n",
              "      <td>cost</td>\n",
              "      <td>VERB</td>\n",
              "      <td>VBD</td>\n",
              "      <td>ROOT</td>\n",
              "      <td>xxxx</td>\n",
              "      <td>True</td>\n",
              "      <td>False</td>\n",
              "    </tr>\n",
              "    <tr>\n",
              "      <th>5</th>\n",
              "      <td>me</td>\n",
              "      <td>-PRON-</td>\n",
              "      <td>PRON</td>\n",
              "      <td>PRP</td>\n",
              "      <td>dative</td>\n",
              "      <td>xx</td>\n",
              "      <td>True</td>\n",
              "      <td>True</td>\n",
              "    </tr>\n",
              "    <tr>\n",
              "      <th>6</th>\n",
              "      <td>$</td>\n",
              "      <td>$</td>\n",
              "      <td>SYM</td>\n",
              "      <td>$</td>\n",
              "      <td>nmod</td>\n",
              "      <td>$</td>\n",
              "      <td>False</td>\n",
              "      <td>False</td>\n",
              "    </tr>\n",
              "    <tr>\n",
              "      <th>7</th>\n",
              "      <td>4</td>\n",
              "      <td>4</td>\n",
              "      <td>NUM</td>\n",
              "      <td>CD</td>\n",
              "      <td>dobj</td>\n",
              "      <td>d</td>\n",
              "      <td>False</td>\n",
              "      <td>False</td>\n",
              "    </tr>\n",
              "    <tr>\n",
              "      <th>8</th>\n",
              "      <td>,</td>\n",
              "      <td>,</td>\n",
              "      <td>PUNCT</td>\n",
              "      <td>,</td>\n",
              "      <td>punct</td>\n",
              "      <td>,</td>\n",
              "      <td>False</td>\n",
              "      <td>False</td>\n",
              "    </tr>\n",
              "    <tr>\n",
              "      <th>9</th>\n",
              "      <td>that</td>\n",
              "      <td>that</td>\n",
              "      <td>DET</td>\n",
              "      <td>DT</td>\n",
              "      <td>nsubj</td>\n",
              "      <td>xxxx</td>\n",
              "      <td>True</td>\n",
              "      <td>True</td>\n",
              "    </tr>\n",
              "    <tr>\n",
              "      <th>10</th>\n",
              "      <td>is</td>\n",
              "      <td>be</td>\n",
              "      <td>VERB</td>\n",
              "      <td>VBZ</td>\n",
              "      <td>ccomp</td>\n",
              "      <td>xx</td>\n",
              "      <td>True</td>\n",
              "      <td>True</td>\n",
              "    </tr>\n",
              "    <tr>\n",
              "      <th>11</th>\n",
              "      <td>extremely</td>\n",
              "      <td>extremely</td>\n",
              "      <td>ADV</td>\n",
              "      <td>RB</td>\n",
              "      <td>advmod</td>\n",
              "      <td>xxxx</td>\n",
              "      <td>True</td>\n",
              "      <td>False</td>\n",
              "    </tr>\n",
              "    <tr>\n",
              "      <th>12</th>\n",
              "      <td>expensive</td>\n",
              "      <td>expensive</td>\n",
              "      <td>ADJ</td>\n",
              "      <td>JJ</td>\n",
              "      <td>acomp</td>\n",
              "      <td>xxxx</td>\n",
              "      <td>True</td>\n",
              "      <td>False</td>\n",
              "    </tr>\n",
              "    <tr>\n",
              "      <th>13</th>\n",
              "      <td>!</td>\n",
              "      <td>!</td>\n",
              "      <td>PUNCT</td>\n",
              "      <td>.</td>\n",
              "      <td>punct</td>\n",
              "      <td>!</td>\n",
              "      <td>False</td>\n",
              "      <td>False</td>\n",
              "    </tr>\n",
              "  </tbody>\n",
              "</table>\n",
              "</div>"
            ],
            "text/plain": [
              "         TEXT      LEMMA    POS  TAG       DEP SHAPE  ALPHA   STOP\n",
              "0         The        the    DET   DT       det   Xxx   True   True\n",
              "1      coffee     coffee   NOUN   NN     nsubj  xxxx   True  False\n",
              "2        this       this    DET   DT       det  xxxx   True   True\n",
              "3     morning    morning   NOUN   NN  npadvmod  xxxx   True  False\n",
              "4      costed       cost   VERB  VBD      ROOT  xxxx   True  False\n",
              "5          me     -PRON-   PRON  PRP    dative    xx   True   True\n",
              "6           $          $    SYM    $      nmod     $  False  False\n",
              "7           4          4    NUM   CD      dobj     d  False  False\n",
              "8           ,          ,  PUNCT    ,     punct     ,  False  False\n",
              "9        that       that    DET   DT     nsubj  xxxx   True   True\n",
              "10         is         be   VERB  VBZ     ccomp    xx   True   True\n",
              "11  extremely  extremely    ADV   RB    advmod  xxxx   True  False\n",
              "12  expensive  expensive    ADJ   JJ     acomp  xxxx   True  False\n",
              "13          !          !  PUNCT    .     punct     !  False  False"
            ]
          },
          "metadata": {
            "tags": []
          },
          "execution_count": 28
        }
      ]
    },
    {
      "cell_type": "markdown",
      "metadata": {
        "id": "uUrOgHNmelLB",
        "colab_type": "text"
      },
      "source": [
        "#### Do not feel lost! Let's visualize this."
      ]
    },
    {
      "cell_type": "code",
      "metadata": {
        "id": "mlStXKJZenzG",
        "colab_type": "code",
        "colab": {
          "base_uri": "https://localhost:8080/",
          "height": 34
        },
        "outputId": "e5591c6c-39b9-4d71-fb4d-b175290b24aa"
      },
      "source": [
        "# We can use spacy.explain when lost\n",
        "spacy.explain(\"VBZ\")"
      ],
      "execution_count": 29,
      "outputs": [
        {
          "output_type": "execute_result",
          "data": {
            "text/plain": [
              "'verb, 3rd person singular present'"
            ]
          },
          "metadata": {
            "tags": []
          },
          "execution_count": 29
        }
      ]
    },
    {
      "cell_type": "code",
      "metadata": {
        "id": "JkIRfHLbkaF8",
        "colab_type": "code",
        "colab": {
          "base_uri": "https://localhost:8080/",
          "height": 34
        },
        "outputId": "eea764d4-ad04-4461-8e9d-dd1c3cb6e7d0"
      },
      "source": [
        "spacy.explain(\"advmod\")"
      ],
      "execution_count": 30,
      "outputs": [
        {
          "output_type": "execute_result",
          "data": {
            "text/plain": [
              "'adverbial modifier'"
            ]
          },
          "metadata": {
            "tags": []
          },
          "execution_count": 30
        }
      ]
    },
    {
      "cell_type": "code",
      "metadata": {
        "id": "fyxDoHVFkdV2",
        "colab_type": "code",
        "colab": {
          "base_uri": "https://localhost:8080/",
          "height": 378
        },
        "outputId": "ae0d9f19-5e6c-400a-afd6-b6832c069bbb"
      },
      "source": [
        "import spacy\n",
        "from spacy import displacy\n",
        "\n",
        "# Show POS and synthatic dependencies\n",
        "displacy.render(doc2, style=\"dep\", jupyter=True, options={'distance': 100})"
      ],
      "execution_count": 38,
      "outputs": [
        {
          "output_type": "display_data",
          "data": {
            "text/html": [
              "<svg xmlns=\"http://www.w3.org/2000/svg\" xmlns:xlink=\"http://www.w3.org/1999/xlink\" xml:lang=\"en\" id=\"61605ff9083b4996a1cf29ea5467a4f0-0\" class=\"displacy\" width=\"1250\" height=\"337.0\" direction=\"ltr\" style=\"max-width: none; height: 337.0px; color: #000000; background: #ffffff; font-family: Arial; direction: ltr\">\n",
              "<text class=\"displacy-token\" fill=\"currentColor\" text-anchor=\"middle\" y=\"247.0\">\n",
              "    <tspan class=\"displacy-word\" fill=\"currentColor\" x=\"50\">The</tspan>\n",
              "    <tspan class=\"displacy-tag\" dy=\"2em\" fill=\"currentColor\" x=\"50\">DET</tspan>\n",
              "</text>\n",
              "\n",
              "<text class=\"displacy-token\" fill=\"currentColor\" text-anchor=\"middle\" y=\"247.0\">\n",
              "    <tspan class=\"displacy-word\" fill=\"currentColor\" x=\"150\">coffee</tspan>\n",
              "    <tspan class=\"displacy-tag\" dy=\"2em\" fill=\"currentColor\" x=\"150\">NOUN</tspan>\n",
              "</text>\n",
              "\n",
              "<text class=\"displacy-token\" fill=\"currentColor\" text-anchor=\"middle\" y=\"247.0\">\n",
              "    <tspan class=\"displacy-word\" fill=\"currentColor\" x=\"250\">this</tspan>\n",
              "    <tspan class=\"displacy-tag\" dy=\"2em\" fill=\"currentColor\" x=\"250\">DET</tspan>\n",
              "</text>\n",
              "\n",
              "<text class=\"displacy-token\" fill=\"currentColor\" text-anchor=\"middle\" y=\"247.0\">\n",
              "    <tspan class=\"displacy-word\" fill=\"currentColor\" x=\"350\">morning</tspan>\n",
              "    <tspan class=\"displacy-tag\" dy=\"2em\" fill=\"currentColor\" x=\"350\">NOUN</tspan>\n",
              "</text>\n",
              "\n",
              "<text class=\"displacy-token\" fill=\"currentColor\" text-anchor=\"middle\" y=\"247.0\">\n",
              "    <tspan class=\"displacy-word\" fill=\"currentColor\" x=\"450\">costed</tspan>\n",
              "    <tspan class=\"displacy-tag\" dy=\"2em\" fill=\"currentColor\" x=\"450\">VERB</tspan>\n",
              "</text>\n",
              "\n",
              "<text class=\"displacy-token\" fill=\"currentColor\" text-anchor=\"middle\" y=\"247.0\">\n",
              "    <tspan class=\"displacy-word\" fill=\"currentColor\" x=\"550\">me</tspan>\n",
              "    <tspan class=\"displacy-tag\" dy=\"2em\" fill=\"currentColor\" x=\"550\">PRON</tspan>\n",
              "</text>\n",
              "\n",
              "<text class=\"displacy-token\" fill=\"currentColor\" text-anchor=\"middle\" y=\"247.0\">\n",
              "    <tspan class=\"displacy-word\" fill=\"currentColor\" x=\"650\">$</tspan>\n",
              "    <tspan class=\"displacy-tag\" dy=\"2em\" fill=\"currentColor\" x=\"650\">SYM</tspan>\n",
              "</text>\n",
              "\n",
              "<text class=\"displacy-token\" fill=\"currentColor\" text-anchor=\"middle\" y=\"247.0\">\n",
              "    <tspan class=\"displacy-word\" fill=\"currentColor\" x=\"750\">4,</tspan>\n",
              "    <tspan class=\"displacy-tag\" dy=\"2em\" fill=\"currentColor\" x=\"750\">NUM</tspan>\n",
              "</text>\n",
              "\n",
              "<text class=\"displacy-token\" fill=\"currentColor\" text-anchor=\"middle\" y=\"247.0\">\n",
              "    <tspan class=\"displacy-word\" fill=\"currentColor\" x=\"850\">that</tspan>\n",
              "    <tspan class=\"displacy-tag\" dy=\"2em\" fill=\"currentColor\" x=\"850\">DET</tspan>\n",
              "</text>\n",
              "\n",
              "<text class=\"displacy-token\" fill=\"currentColor\" text-anchor=\"middle\" y=\"247.0\">\n",
              "    <tspan class=\"displacy-word\" fill=\"currentColor\" x=\"950\">is</tspan>\n",
              "    <tspan class=\"displacy-tag\" dy=\"2em\" fill=\"currentColor\" x=\"950\">VERB</tspan>\n",
              "</text>\n",
              "\n",
              "<text class=\"displacy-token\" fill=\"currentColor\" text-anchor=\"middle\" y=\"247.0\">\n",
              "    <tspan class=\"displacy-word\" fill=\"currentColor\" x=\"1050\">extremely</tspan>\n",
              "    <tspan class=\"displacy-tag\" dy=\"2em\" fill=\"currentColor\" x=\"1050\">ADV</tspan>\n",
              "</text>\n",
              "\n",
              "<text class=\"displacy-token\" fill=\"currentColor\" text-anchor=\"middle\" y=\"247.0\">\n",
              "    <tspan class=\"displacy-word\" fill=\"currentColor\" x=\"1150\">expensive!</tspan>\n",
              "    <tspan class=\"displacy-tag\" dy=\"2em\" fill=\"currentColor\" x=\"1150\">ADJ</tspan>\n",
              "</text>\n",
              "\n",
              "<g class=\"displacy-arrow\">\n",
              "    <path class=\"displacy-arc\" id=\"arrow-61605ff9083b4996a1cf29ea5467a4f0-0-0\" stroke-width=\"2px\" d=\"M70,202.0 C70,152.0 135.0,152.0 135.0,202.0\" fill=\"none\" stroke=\"currentColor\"/>\n",
              "    <text dy=\"1.25em\" style=\"font-size: 0.8em; letter-spacing: 1px\">\n",
              "        <textPath xlink:href=\"#arrow-61605ff9083b4996a1cf29ea5467a4f0-0-0\" class=\"displacy-label\" startOffset=\"50%\" side=\"left\" fill=\"currentColor\" text-anchor=\"middle\">det</textPath>\n",
              "    </text>\n",
              "    <path class=\"displacy-arrowhead\" d=\"M70,204.0 L62,192.0 78,192.0\" fill=\"currentColor\"/>\n",
              "</g>\n",
              "\n",
              "<g class=\"displacy-arrow\">\n",
              "    <path class=\"displacy-arc\" id=\"arrow-61605ff9083b4996a1cf29ea5467a4f0-0-1\" stroke-width=\"2px\" d=\"M170,202.0 C170,52.0 445.0,52.0 445.0,202.0\" fill=\"none\" stroke=\"currentColor\"/>\n",
              "    <text dy=\"1.25em\" style=\"font-size: 0.8em; letter-spacing: 1px\">\n",
              "        <textPath xlink:href=\"#arrow-61605ff9083b4996a1cf29ea5467a4f0-0-1\" class=\"displacy-label\" startOffset=\"50%\" side=\"left\" fill=\"currentColor\" text-anchor=\"middle\">nsubj</textPath>\n",
              "    </text>\n",
              "    <path class=\"displacy-arrowhead\" d=\"M170,204.0 L162,192.0 178,192.0\" fill=\"currentColor\"/>\n",
              "</g>\n",
              "\n",
              "<g class=\"displacy-arrow\">\n",
              "    <path class=\"displacy-arc\" id=\"arrow-61605ff9083b4996a1cf29ea5467a4f0-0-2\" stroke-width=\"2px\" d=\"M270,202.0 C270,152.0 335.0,152.0 335.0,202.0\" fill=\"none\" stroke=\"currentColor\"/>\n",
              "    <text dy=\"1.25em\" style=\"font-size: 0.8em; letter-spacing: 1px\">\n",
              "        <textPath xlink:href=\"#arrow-61605ff9083b4996a1cf29ea5467a4f0-0-2\" class=\"displacy-label\" startOffset=\"50%\" side=\"left\" fill=\"currentColor\" text-anchor=\"middle\">det</textPath>\n",
              "    </text>\n",
              "    <path class=\"displacy-arrowhead\" d=\"M270,204.0 L262,192.0 278,192.0\" fill=\"currentColor\"/>\n",
              "</g>\n",
              "\n",
              "<g class=\"displacy-arrow\">\n",
              "    <path class=\"displacy-arc\" id=\"arrow-61605ff9083b4996a1cf29ea5467a4f0-0-3\" stroke-width=\"2px\" d=\"M370,202.0 C370,152.0 435.0,152.0 435.0,202.0\" fill=\"none\" stroke=\"currentColor\"/>\n",
              "    <text dy=\"1.25em\" style=\"font-size: 0.8em; letter-spacing: 1px\">\n",
              "        <textPath xlink:href=\"#arrow-61605ff9083b4996a1cf29ea5467a4f0-0-3\" class=\"displacy-label\" startOffset=\"50%\" side=\"left\" fill=\"currentColor\" text-anchor=\"middle\">npadvmod</textPath>\n",
              "    </text>\n",
              "    <path class=\"displacy-arrowhead\" d=\"M370,204.0 L362,192.0 378,192.0\" fill=\"currentColor\"/>\n",
              "</g>\n",
              "\n",
              "<g class=\"displacy-arrow\">\n",
              "    <path class=\"displacy-arc\" id=\"arrow-61605ff9083b4996a1cf29ea5467a4f0-0-4\" stroke-width=\"2px\" d=\"M470,202.0 C470,152.0 535.0,152.0 535.0,202.0\" fill=\"none\" stroke=\"currentColor\"/>\n",
              "    <text dy=\"1.25em\" style=\"font-size: 0.8em; letter-spacing: 1px\">\n",
              "        <textPath xlink:href=\"#arrow-61605ff9083b4996a1cf29ea5467a4f0-0-4\" class=\"displacy-label\" startOffset=\"50%\" side=\"left\" fill=\"currentColor\" text-anchor=\"middle\">dative</textPath>\n",
              "    </text>\n",
              "    <path class=\"displacy-arrowhead\" d=\"M535.0,204.0 L543.0,192.0 527.0,192.0\" fill=\"currentColor\"/>\n",
              "</g>\n",
              "\n",
              "<g class=\"displacy-arrow\">\n",
              "    <path class=\"displacy-arc\" id=\"arrow-61605ff9083b4996a1cf29ea5467a4f0-0-5\" stroke-width=\"2px\" d=\"M670,202.0 C670,152.0 735.0,152.0 735.0,202.0\" fill=\"none\" stroke=\"currentColor\"/>\n",
              "    <text dy=\"1.25em\" style=\"font-size: 0.8em; letter-spacing: 1px\">\n",
              "        <textPath xlink:href=\"#arrow-61605ff9083b4996a1cf29ea5467a4f0-0-5\" class=\"displacy-label\" startOffset=\"50%\" side=\"left\" fill=\"currentColor\" text-anchor=\"middle\">nmod</textPath>\n",
              "    </text>\n",
              "    <path class=\"displacy-arrowhead\" d=\"M670,204.0 L662,192.0 678,192.0\" fill=\"currentColor\"/>\n",
              "</g>\n",
              "\n",
              "<g class=\"displacy-arrow\">\n",
              "    <path class=\"displacy-arc\" id=\"arrow-61605ff9083b4996a1cf29ea5467a4f0-0-6\" stroke-width=\"2px\" d=\"M470,202.0 C470,52.0 745.0,52.0 745.0,202.0\" fill=\"none\" stroke=\"currentColor\"/>\n",
              "    <text dy=\"1.25em\" style=\"font-size: 0.8em; letter-spacing: 1px\">\n",
              "        <textPath xlink:href=\"#arrow-61605ff9083b4996a1cf29ea5467a4f0-0-6\" class=\"displacy-label\" startOffset=\"50%\" side=\"left\" fill=\"currentColor\" text-anchor=\"middle\">dobj</textPath>\n",
              "    </text>\n",
              "    <path class=\"displacy-arrowhead\" d=\"M745.0,204.0 L753.0,192.0 737.0,192.0\" fill=\"currentColor\"/>\n",
              "</g>\n",
              "\n",
              "<g class=\"displacy-arrow\">\n",
              "    <path class=\"displacy-arc\" id=\"arrow-61605ff9083b4996a1cf29ea5467a4f0-0-7\" stroke-width=\"2px\" d=\"M870,202.0 C870,152.0 935.0,152.0 935.0,202.0\" fill=\"none\" stroke=\"currentColor\"/>\n",
              "    <text dy=\"1.25em\" style=\"font-size: 0.8em; letter-spacing: 1px\">\n",
              "        <textPath xlink:href=\"#arrow-61605ff9083b4996a1cf29ea5467a4f0-0-7\" class=\"displacy-label\" startOffset=\"50%\" side=\"left\" fill=\"currentColor\" text-anchor=\"middle\">nsubj</textPath>\n",
              "    </text>\n",
              "    <path class=\"displacy-arrowhead\" d=\"M870,204.0 L862,192.0 878,192.0\" fill=\"currentColor\"/>\n",
              "</g>\n",
              "\n",
              "<g class=\"displacy-arrow\">\n",
              "    <path class=\"displacy-arc\" id=\"arrow-61605ff9083b4996a1cf29ea5467a4f0-0-8\" stroke-width=\"2px\" d=\"M470,202.0 C470,2.0 950.0,2.0 950.0,202.0\" fill=\"none\" stroke=\"currentColor\"/>\n",
              "    <text dy=\"1.25em\" style=\"font-size: 0.8em; letter-spacing: 1px\">\n",
              "        <textPath xlink:href=\"#arrow-61605ff9083b4996a1cf29ea5467a4f0-0-8\" class=\"displacy-label\" startOffset=\"50%\" side=\"left\" fill=\"currentColor\" text-anchor=\"middle\">ccomp</textPath>\n",
              "    </text>\n",
              "    <path class=\"displacy-arrowhead\" d=\"M950.0,204.0 L958.0,192.0 942.0,192.0\" fill=\"currentColor\"/>\n",
              "</g>\n",
              "\n",
              "<g class=\"displacy-arrow\">\n",
              "    <path class=\"displacy-arc\" id=\"arrow-61605ff9083b4996a1cf29ea5467a4f0-0-9\" stroke-width=\"2px\" d=\"M1070,202.0 C1070,152.0 1135.0,152.0 1135.0,202.0\" fill=\"none\" stroke=\"currentColor\"/>\n",
              "    <text dy=\"1.25em\" style=\"font-size: 0.8em; letter-spacing: 1px\">\n",
              "        <textPath xlink:href=\"#arrow-61605ff9083b4996a1cf29ea5467a4f0-0-9\" class=\"displacy-label\" startOffset=\"50%\" side=\"left\" fill=\"currentColor\" text-anchor=\"middle\">advmod</textPath>\n",
              "    </text>\n",
              "    <path class=\"displacy-arrowhead\" d=\"M1070,204.0 L1062,192.0 1078,192.0\" fill=\"currentColor\"/>\n",
              "</g>\n",
              "\n",
              "<g class=\"displacy-arrow\">\n",
              "    <path class=\"displacy-arc\" id=\"arrow-61605ff9083b4996a1cf29ea5467a4f0-0-10\" stroke-width=\"2px\" d=\"M970,202.0 C970,102.0 1140.0,102.0 1140.0,202.0\" fill=\"none\" stroke=\"currentColor\"/>\n",
              "    <text dy=\"1.25em\" style=\"font-size: 0.8em; letter-spacing: 1px\">\n",
              "        <textPath xlink:href=\"#arrow-61605ff9083b4996a1cf29ea5467a4f0-0-10\" class=\"displacy-label\" startOffset=\"50%\" side=\"left\" fill=\"currentColor\" text-anchor=\"middle\">acomp</textPath>\n",
              "    </text>\n",
              "    <path class=\"displacy-arrowhead\" d=\"M1140.0,204.0 L1148.0,192.0 1132.0,192.0\" fill=\"currentColor\"/>\n",
              "</g>\n",
              "</svg>"
            ],
            "text/plain": [
              "<IPython.core.display.HTML object>"
            ]
          },
          "metadata": {
            "tags": []
          }
        }
      ]
    },
    {
      "cell_type": "code",
      "metadata": {
        "id": "Nun7w-ErksfY",
        "colab_type": "code",
        "colab": {
          "base_uri": "https://localhost:8080/",
          "height": 52
        },
        "outputId": "d25b22a4-c880-4424-ef36-f26bd5c49f83"
      },
      "source": [
        "# The entity visualizer highlights named entities and their labels in the text\n",
        "displacy.render(doc2, style=\"ent\", jupyter=True, options={'distance': 100})"
      ],
      "execution_count": 39,
      "outputs": [
        {
          "output_type": "display_data",
          "data": {
            "text/html": [
              "<div class=\"entities\" style=\"line-height: 2.5; direction: ltr\">The coffee \n",
              "<mark class=\"entity\" style=\"background: #bfe1d9; padding: 0.45em 0.6em; margin: 0 0.25em; line-height: 1; border-radius: 0.35em; box-decoration-break: clone; -webkit-box-decoration-break: clone\">\n",
              "    this morning\n",
              "    <span style=\"font-size: 0.8em; font-weight: bold; line-height: 1; border-radius: 0.35em; text-transform: uppercase; vertical-align: middle; margin-left: 0.5rem\">TIME</span>\n",
              "</mark>\n",
              " costed me $\n",
              "<mark class=\"entity\" style=\"background: #e4e7d2; padding: 0.45em 0.6em; margin: 0 0.25em; line-height: 1; border-radius: 0.35em; box-decoration-break: clone; -webkit-box-decoration-break: clone\">\n",
              "    4\n",
              "    <span style=\"font-size: 0.8em; font-weight: bold; line-height: 1; border-radius: 0.35em; text-transform: uppercase; vertical-align: middle; margin-left: 0.5rem\">MONEY</span>\n",
              "</mark>\n",
              ", that is extremely expensive!</div>"
            ],
            "text/plain": [
              "<IPython.core.display.HTML object>"
            ]
          },
          "metadata": {
            "tags": []
          }
        }
      ]
    },
    {
      "cell_type": "markdown",
      "metadata": {
        "id": "1zXsGHrIqadY",
        "colab_type": "text"
      },
      "source": [
        "#### Tokenization rules\n",
        "\n",
        "The tokenization applies rules specific to each language. For instance, punctuation at the end of a sentence should be split off – whereas “U.K.” should remain one token. Also don't should be split as **do** and **not** and such.\n",
        "\n",
        "Those form part of the tokenizer exceptions, that make all that decisions for each language model on whether to split a word or not.\n",
        "\n",
        "* **Tokenizer exception**: Special-case rule to split a string into several tokens or prevent a token from being split when punctuation rules are applied.\n",
        "* **Prefix**: Character(s) at the beginning, e.g. $, (, “, ¿.\n",
        "* **Suffix**: Character(s) at the end, e.g. km, ), ”, !.\n",
        "* **Infix**: Character(s) in between, e.g. -, --, /, ….\n",
        "\n",
        "If we want to change the tokenization or add some, we will need to create our own rules (rarely used unless you are dealing with scientific/slang languages)."
      ]
    },
    {
      "cell_type": "code",
      "metadata": {
        "id": "DS48FrWKskO3",
        "colab_type": "code",
        "colab": {}
      },
      "source": [
        "text_sentence_3 = \"I was accepted at UCL-CV Master in U.K., but I didn't have enough money for it!\""
      ],
      "execution_count": 0,
      "outputs": []
    },
    {
      "cell_type": "code",
      "metadata": {
        "id": "BLSJVLMerHhf",
        "colab_type": "code",
        "colab": {
          "base_uri": "https://localhost:8080/",
          "height": 289
        },
        "outputId": "262e4422-80ba-49eb-8817-abd1ef0c99f5"
      },
      "source": [
        "\"\"\"\n",
        "With Python we can also split the text using .split().\n",
        "\n",
        "The problem is that we do not retain contextual token information.\n",
        "Such as do/not or punctuations such as commas or exclamations.\n",
        "\"\"\"\n",
        "\n",
        "text_sentence_3.split(' ')"
      ],
      "execution_count": 46,
      "outputs": [
        {
          "output_type": "execute_result",
          "data": {
            "text/plain": [
              "['I',\n",
              " 'was',\n",
              " 'accepted',\n",
              " 'at',\n",
              " 'UCL-CV',\n",
              " 'Master',\n",
              " 'in',\n",
              " 'U.K.,',\n",
              " 'but',\n",
              " 'I',\n",
              " \"didn't\",\n",
              " 'have',\n",
              " 'enough',\n",
              " 'money',\n",
              " 'for',\n",
              " 'it!']"
            ]
          },
          "metadata": {
            "tags": []
          },
          "execution_count": 46
        }
      ]
    },
    {
      "cell_type": "code",
      "metadata": {
        "id": "er1OCTJSlz4u",
        "colab_type": "code",
        "colab": {
          "base_uri": "https://localhost:8080/",
          "height": 374
        },
        "outputId": "9acb4b19-feb0-4f21-a14e-9752651f94f9"
      },
      "source": [
        "doc3 = nlp(text_sentence_3)\n",
        "\n",
        "for token in doc3:\n",
        "    print(token.text)"
      ],
      "execution_count": 47,
      "outputs": [
        {
          "output_type": "stream",
          "text": [
            "I\n",
            "was\n",
            "accepted\n",
            "at\n",
            "UCL\n",
            "-\n",
            "CV\n",
            "Master\n",
            "in\n",
            "U.K.\n",
            ",\n",
            "but\n",
            "I\n",
            "did\n",
            "n't\n",
            "have\n",
            "enough\n",
            "money\n",
            "for\n",
            "it\n",
            "!\n"
          ],
          "name": "stdout"
        }
      ]
    },
    {
      "cell_type": "markdown",
      "metadata": {
        "id": "RsidWPPVvgvu",
        "colab_type": "text"
      },
      "source": [
        "##### Creating our own rule\n",
        "\n",
        "Global and language-specific tokenizer data is supplied via the language data in spacy/lang. The tokenizer exceptions define special cases like “don’t” in English, which needs to be split into two tokens: {ORTH: \"do\"} and {ORTH: \"n't\", NORM: \"not\"}. The prefixes, suffixes and infixes mostly define punctuation rules – for example, when to split off periods (at the end of a sentence), and when to leave tokens containing periods intact (abbreviations like “U.S.”).\n",
        "\n",
        "![alt text](https://spacy.io/language_data-ef63e6a58b7ec47c073fb59857a76e5f.svg)\n",
        "\n",
        "Anything that’s specific to a domain or text type – like financial trading abbreviations, or Bavarian youth slang – should be added as a special case rule to your tokenizer instance. If you’re dealing with a lot of customizations, it might make sense to create an entirely custom subclass."
      ]
    },
    {
      "cell_type": "code",
      "metadata": {
        "id": "XspIC2OirfGu",
        "colab_type": "code",
        "colab": {
          "base_uri": "https://localhost:8080/",
          "height": 119
        },
        "outputId": "ebc77be8-6c17-4fd8-8bfc-f1bf6cce8569"
      },
      "source": [
        "text_sentence_4 = \"Hey, gimme your money\" \n",
        "\n",
        "doc4 = nlp(text_sentence_4)\n",
        "\n",
        "for token in doc4:\n",
        "    print(token.text)"
      ],
      "execution_count": 66,
      "outputs": [
        {
          "output_type": "stream",
          "text": [
            "Hey\n",
            ",\n",
            "gim\n",
            "me\n",
            "your\n",
            "money\n"
          ],
          "name": "stdout"
        }
      ]
    },
    {
      "cell_type": "code",
      "metadata": {
        "id": "ttqRCuuQw6On",
        "colab_type": "code",
        "colab": {}
      },
      "source": [
        "import spacy\n",
        "from spacy.symbols import ORTH\n",
        "\n",
        "nlp = spacy.load(\"en_core_web_sm\") \n",
        "\n",
        "text_sentence_4 = \"Hey, gimme your money\" \n",
        "doc4 = nlp(text_sentence_4)\n",
        "\n",
        "# Add special case rule\n",
        "special_case = [{ORTH: \"gim\"}, {ORTH: \"me\"}]\n",
        "nlp.tokenizer.add_special_case(\"gimme\", special_case)"
      ],
      "execution_count": 0,
      "outputs": []
    },
    {
      "cell_type": "code",
      "metadata": {
        "id": "NspnM88txUDc",
        "colab_type": "code",
        "colab": {
          "base_uri": "https://localhost:8080/",
          "height": 119
        },
        "outputId": "84d3a699-b76d-4a1f-da9d-02c9ef3d059e"
      },
      "source": [
        "text_sentence_4 = \"Hey, gimme your money\" \n",
        "\n",
        "doc4 = nlp(text_sentence_4)\n",
        "\n",
        "for token in doc4:\n",
        "    print(token.text)"
      ],
      "execution_count": 72,
      "outputs": [
        {
          "output_type": "stream",
          "text": [
            "Hey\n",
            ",\n",
            "gim\n",
            "me\n",
            "your\n",
            "money\n"
          ],
          "name": "stdout"
        }
      ]
    },
    {
      "cell_type": "markdown",
      "metadata": {
        "id": "rQwVTWHQztz8",
        "colab_type": "text"
      },
      "source": [
        "##### Long sentences and weird spaces"
      ]
    },
    {
      "cell_type": "code",
      "metadata": {
        "id": "mYIaQp2k45gd",
        "colab_type": "code",
        "colab": {
          "base_uri": "https://localhost:8080/",
          "height": 170
        },
        "outputId": "c45cc958-28c8-4788-baa8-f9f032813e95"
      },
      "source": [
        "text_sentence_5 = 'Some\\nspaces  and\\ttab characters'\n",
        "\n",
        "doc5 = nlp(text_sentence_5)\n",
        "\n",
        "for token in doc5:\n",
        "    print(token.text)"
      ],
      "execution_count": 73,
      "outputs": [
        {
          "output_type": "stream",
          "text": [
            "Some\n",
            "\n",
            "\n",
            "spaces\n",
            " \n",
            "and\n",
            "\t\n",
            "tab\n",
            "characters\n"
          ],
          "name": "stdout"
        }
      ]
    },
    {
      "cell_type": "code",
      "metadata": {
        "id": "NVkzoQAw5FsY",
        "colab_type": "code",
        "colab": {
          "base_uri": "https://localhost:8080/",
          "height": 34
        },
        "outputId": "5cc648e9-d0eb-4e2b-be0f-23cabbec6aa1"
      },
      "source": [
        "doc5[1].is_space"
      ],
      "execution_count": 74,
      "outputs": [
        {
          "output_type": "execute_result",
          "data": {
            "text/plain": [
              "True"
            ]
          },
          "metadata": {
            "tags": []
          },
          "execution_count": 74
        }
      ]
    },
    {
      "cell_type": "code",
      "metadata": {
        "id": "UEvV03B05KdP",
        "colab_type": "code",
        "colab": {
          "base_uri": "https://localhost:8080/",
          "height": 139
        },
        "outputId": "2e6fe058-d195-4053-8e89-27ffb956832d"
      },
      "source": [
        "text_sentence_6 = \"In ancient Rome, some neighbors live in three adjacent houses. In the center is the house of Senex, who lives there with wife Domina, son Hero, and several slaves, including head slave Hysterium and the musical's main character Pseudolus. A slave belonging to Hero, Pseudolus wishes to buy, win, or steal his freedom. One of the neighboring houses is owned by Marcus Lycus, who is a buyer and seller of beautiful women; the other belongs to the ancient Erronius, who is abroad searching for his long-lost children (stolen in infancy by pirates). One day, Senex and Domina go on a trip and leave Pseudolus in charge of Hero. Hero confides in Pseudolus that he is in love with the lovely Philia, one of the courtesans in the House of Lycus (albeit still a virgin).\"\n",
        "\n",
        "doc6 = nlp(text_sentence_6)\n",
        "\n",
        "for sent in doc6.sents:\n",
        "    print(sent)"
      ],
      "execution_count": 75,
      "outputs": [
        {
          "output_type": "stream",
          "text": [
            "In ancient Rome, some neighbors live in three adjacent houses.\n",
            "In the center is the house of Senex, who lives there with wife Domina, son Hero, and several slaves, including head slave Hysterium and the musical's main character Pseudolus.\n",
            "A slave belonging to Hero, Pseudolus wishes to buy, win, or steal his freedom.\n",
            "One of the neighboring houses is owned by Marcus Lycus, who is a buyer and seller of beautiful women; the other belongs to the ancient Erronius, who is abroad searching for his long-lost children (stolen in infancy by pirates).\n",
            "One day, Senex and Domina go on a trip and leave Pseudolus in charge of Hero.\n",
            "Hero confides in Pseudolus that he is in love with the lovely Philia, one of the courtesans in the House of Lycus (albeit still a virgin).\n"
          ],
          "name": "stdout"
        }
      ]
    },
    {
      "cell_type": "markdown",
      "metadata": {
        "id": "O1H-VPRB6W7l",
        "colab_type": "text"
      },
      "source": [
        "### Lemmatization\n",
        "\n",
        "Lemmatization is the assignation of the base forms of words. For example, the lemma of “was” is “be”, and the lemma of “rats” is “rat”."
      ]
    },
    {
      "cell_type": "code",
      "metadata": {
        "id": "E19GCEnZ6P9v",
        "colab_type": "code",
        "colab": {
          "base_uri": "https://localhost:8080/",
          "height": 34
        },
        "outputId": "fd62330c-2d82-4315-da08-c43bf743a07d"
      },
      "source": [
        "nlp(\"they are neighbours\")[-1].lemma_"
      ],
      "execution_count": 76,
      "outputs": [
        {
          "output_type": "execute_result",
          "data": {
            "text/plain": [
              "'neighbour'"
            ]
          },
          "metadata": {
            "tags": []
          },
          "execution_count": 76
        }
      ]
    },
    {
      "cell_type": "code",
      "metadata": {
        "id": "BVD7TNvv639P",
        "colab_type": "code",
        "colab": {
          "base_uri": "https://localhost:8080/",
          "height": 34
        },
        "outputId": "e817ea6f-2840-4dd9-c818-d9e72a5b006d"
      },
      "source": [
        "doc6[0]"
      ],
      "execution_count": 78,
      "outputs": [
        {
          "output_type": "execute_result",
          "data": {
            "text/plain": [
              "In"
            ]
          },
          "metadata": {
            "tags": []
          },
          "execution_count": 78
        }
      ]
    },
    {
      "cell_type": "code",
      "metadata": {
        "id": "ZIHap1F26_bH",
        "colab_type": "code",
        "colab": {
          "base_uri": "https://localhost:8080/",
          "height": 34
        },
        "outputId": "01f4191a-ecb8-479d-8e42-05db723263b8"
      },
      "source": [
        "doc6[0].lemma_"
      ],
      "execution_count": 79,
      "outputs": [
        {
          "output_type": "execute_result",
          "data": {
            "text/plain": [
              "'in'"
            ]
          },
          "metadata": {
            "tags": []
          },
          "execution_count": 79
        }
      ]
    },
    {
      "cell_type": "code",
      "metadata": {
        "id": "orAIfks77Hk_",
        "colab_type": "code",
        "colab": {
          "base_uri": "https://localhost:8080/",
          "height": 34
        },
        "outputId": "bc9647c9-ce9f-4bad-f08a-695bb464d651"
      },
      "source": [
        "# Getting information about a token\n",
        "doc6.vocab['is']"
      ],
      "execution_count": 81,
      "outputs": [
        {
          "output_type": "execute_result",
          "data": {
            "text/plain": [
              "<spacy.lexeme.Lexeme at 0x7f2830385750>"
            ]
          },
          "metadata": {
            "tags": []
          },
          "execution_count": 81
        }
      ]
    },
    {
      "cell_type": "markdown",
      "metadata": {
        "id": "KdjoTxuG7s_V",
        "colab_type": "text"
      },
      "source": [
        "#### Dealing with STOP words\n",
        "In computing, stop words are words which are filtered out before processing of natural language data (text). Stop words are generally the most common words in a language; there is no single universal list of stop words used by all natural language processing tools, and indeed not all tools even use such a list. Some tools avoid removing stop words to support phrase search."
      ]
    },
    {
      "cell_type": "code",
      "metadata": {
        "id": "KJjuIZla7Lqf",
        "colab_type": "code",
        "colab": {
          "base_uri": "https://localhost:8080/",
          "height": 54
        },
        "outputId": "3f678fd5-f642-4785-a8d7-e6ae7e9e42f8"
      },
      "source": [
        "# Getting STOP words\n",
        "from spacy.lang.en.stop_words import STOP_WORDS\n",
        "\n",
        "print(STOP_WORDS)"
      ],
      "execution_count": 82,
      "outputs": [
        {
          "output_type": "stream",
          "text": [
            "{'herself', 'by', 'done', 'out', 'fifty', 'amount', 'even', 'on', 'anyhow', 'often', 'third', \"'re\", 'some', '’ve', 'although', 'her', 'nevertheless', 'hereupon', 'own', 'somehow', 'top', 'show', 'sometime', 'twenty', 'anything', 'latterly', 'too', 'wherein', 'nothing', 'a', 'its', '‘m', 'hereby', 'forty', 'how', 'must', 'either', 'much', 'you', 'further', 'in', 'becoming', '‘s', 'during', 'however', 'whereupon', 'again', 'name', 'the', 'except', 'perhaps', 'about', 'seem', 'his', 'be', 'thereby', 'can', 'nowhere', 'those', 'though', 'five', 'elsewhere', 'whose', 'anyway', 'moreover', 'whence', 'who', 'there', 'itself', 'other', 'less', 'our', 'somewhere', 'might', 'eleven', 'your', 'next', 'off', 'per', 'yours', '’d', 'thereupon', 'also', 'bottom', 'where', 'everyone', 'being', 'just', 'sixty', 'they', '’m', 'amongst', 'besides', 'why', '’ll', 'but', 'me', 'made', 'could', 'three', 'of', 'already', 'none', 'side', 'nobody', 'whereas', 'would', 'been', 'something', \"n't\", 'throughout', 'hers', 'this', 'thus', 'latter', 'indeed', 'beyond', 'whereby', 'anywhere', 'meanwhile', 'beside', 'than', 'such', 'became', 'cannot', 'used', 'above', 'and', 'call', 'along', 'well', 'yet', \"'ve\", 'every', 'front', 'whenever', 'least', 'with', 'doing', 'empty', 'hereafter', 'upon', 'were', 'noone', 'at', 'no', 'for', 'here', 'he', 'nor', 'i', 'below', 'around', 'quite', 'each', 'through', '‘ll', 'their', 'ourselves', 'several', 'everything', 'very', 'between', 'put', 'more', 'my', 'hundred', 'she', 'two', 'first', 'which', 'wherever', 'together', 'an', 'am', 'former', 'keep', 'has', 'have', 'do', 'four', 'these', 'whom', 'as', 'really', '‘ve', 'via', 'unless', 'thereafter', 'was', 'various', 'otherwise', 'becomes', 'serious', 'therein', 'that', 'everywhere', 'make', 'anyone', 'else', '‘d', 'mine', 'almost', 'ever', 'toward', 'us', 'whither', 'n’t', 'using', 'therefore', 'are', 'say', 'never', 'seemed', 'most', 'had', 'someone', 'what', 'yourself', 'regarding', 'whole', \"'ll\", 'when', 'will', 'ca', 'same', 'whatever', 'afterwards', 'only', 'others', 'move', 'into', 'within', 'over', 'mostly', 'down', '‘re', 'across', 'not', 'always', 'now', 'we', 'whoever', 'hence', 'since', 'n‘t', 'see', 'myself', 'among', 'herein', 'rather', 're', 'ten', \"'m\", 'it', 'full', 'may', 'beforehand', 'is', 'nine', 'if', 'ours', 'sometimes', 'against', 'behind', 'give', 'one', 'should', 'six', '’re', 'due', 'them', 'become', 'formerly', 'thru', 'without', 'once', 'alone', 'until', 'fifteen', 'both', 'many', 'themselves', 'get', 'seeming', 'so', 'to', 'towards', 'up', \"'s\", 'few', 'or', 'thence', 'whereafter', 'any', 'yourselves', 'all', 'seems', 'twelve', 'please', 'take', 'go', 'namely', 'whether', 'from', 'before', 'does', 'him', 'while', \"'d\", '’s', 'after', 'then', 'enough', 'last', 'because', 'onto', 'himself', 'eight', 'did', 'back', 'neither', 'still', 'under', 'another', 'part'}\n"
          ],
          "name": "stdout"
        }
      ]
    },
    {
      "cell_type": "code",
      "metadata": {
        "id": "h6KuLWRV72_X",
        "colab_type": "code",
        "colab": {
          "base_uri": "https://localhost:8080/",
          "height": 34
        },
        "outputId": "c8342ed2-89d8-4054-bfad-962087f4b4a1"
      },
      "source": [
        "print(doc6[0], \"--> is stopword? -->\", doc6[0] in STOP_WORDS)"
      ],
      "execution_count": 89,
      "outputs": [
        {
          "output_type": "stream",
          "text": [
            "In --> is stopword? --> False\n"
          ],
          "name": "stdout"
        }
      ]
    },
    {
      "cell_type": "markdown",
      "metadata": {
        "id": "Ze9L3mcL97nm",
        "colab_type": "text"
      },
      "source": [
        "\"In\" is not found in the list of common words, however spaCy changes automatically to lower case to find that actually \"In\" is \"in\" and therefore is a stopword."
      ]
    },
    {
      "cell_type": "code",
      "metadata": {
        "id": "XiSaZtvq8Dun",
        "colab_type": "code",
        "colab": {
          "base_uri": "https://localhost:8080/",
          "height": 34
        },
        "outputId": "1ee47721-1f92-4b71-9796-2d9298206cc0"
      },
      "source": [
        "doc6[0].is_stop"
      ],
      "execution_count": 96,
      "outputs": [
        {
          "output_type": "execute_result",
          "data": {
            "text/plain": [
              "True"
            ]
          },
          "metadata": {
            "tags": []
          },
          "execution_count": 96
        }
      ]
    },
    {
      "cell_type": "markdown",
      "metadata": {
        "id": "ZjJ5na1b-O92",
        "colab_type": "text"
      },
      "source": [
        "### In class exercise:\n",
        "\n",
        "Display a table with all the tokens of `text1` and the columns `[\"Text\", \"Lemma\", \"Coarse POS (pos)\", \"Fine POS (tag)\", \"Syntactic dependency\", \"Shape\", \"Alphanumeric\", \"Stop\"]`. Look in https://spacy.io/api/token#attributes for hints. Something like:\n",
        "\n",
        "<table border=\"1\" class=\"dataframe\">\n",
        "  <thead>\n",
        "    <tr style=\"text-align: right;\">\n",
        "      <th></th>\n",
        "      <th>Text</th>\n",
        "      <th>Lemma</th>\n",
        "      <th>Coarse POS (pos)</th>\n",
        "      <th>Fine POS (tag)</th>\n",
        "      <th>Syntactic dependency</th>\n",
        "      <th>Shape</th>\n",
        "      <th>Alphanumeric</th>\n",
        "      <th>Stop</th>\n",
        "    </tr>\n",
        "  </thead>\n",
        "  <tbody>\n",
        "    <tr>\n",
        "      <th>0</th>\n",
        "      <td>This</td>\n",
        "      <td>this</td>\n",
        "      <td>DET</td>\n",
        "      <td>DT</td>\n",
        "      <td>nsubj</td>\n",
        "      <td>Xxxx</td>\n",
        "      <td>True</td>\n",
        "      <td>False</td>\n",
        "    </tr>\n",
        "    <tr>\n",
        "      <th>1</th>\n",
        "      <td>is</td>\n",
        "      <td>be</td>\n",
        "      <td>VERB</td>\n",
        "      <td>VBZ</td>\n",
        "      <td>ROOT</td>\n",
        "      <td>xx</td>\n",
        "      <td>True</td>\n",
        "      <td>True</td>\n",
        "    </tr>\n",
        "    <tr>\n",
        "      <th>...</th>\n",
        "      <td>...</td>\n",
        "      <td>...</td>\n",
        "      <td>...</td>\n",
        "      <td>...</td>\n",
        "      <td>...</td>\n",
        "      <td>...</td>\n",
        "      <td>...</td>\n",
        "      <td>...</td>\n",
        "    </tr>\n",
        "  </tbody>\n",
        "</table>\n",
        "\n",
        "Also, create a dependency and entity graph of the sentence.\n",
        "\n",
        "Use the following sentence:"
      ]
    },
    {
      "cell_type": "code",
      "metadata": {
        "id": "S-AIgn__-leF",
        "colab_type": "code",
        "colab": {}
      },
      "source": [
        "exercise_sentece = \"This is great! We are learning text processing with spaCy\""
      ],
      "execution_count": 0,
      "outputs": []
    },
    {
      "cell_type": "markdown",
      "metadata": {
        "id": "pkru_Zpi5yhO",
        "colab_type": "text"
      },
      "source": [
        "## spaCy pipelines\n",
        "\n",
        "When we call `nlp` on a text, spaCy tokenizes the ext to produce a `Doc`. The processing pipeline has different steps that are removed from the complexity of the user but that [can be tweaked if needed](https://spacy.io/usage/processing-pipelines).\n",
        "\n",
        "![alt text](https://spacy.io/pipeline-7a14d4edd18f3edfee8f34393bff2992.svg)"
      ]
    },
    {
      "cell_type": "markdown",
      "metadata": {
        "id": "X3WXfgOF-wYg",
        "colab_type": "text"
      },
      "source": [
        "## Entity recognition\n",
        "\n",
        "A **named entity** is a *real-world object* that’s assigned a name – for example, a person, a country, a product or a book title.\n",
        "\n",
        "spaCy can recognize [many types of named entities](https://spacy.io/api/annotation#named-entities), by predicting over a language model. Results are not 100% accurate as models are statistical and depends on the examples they are trained on, but this can be fine tuned for you later on.\n",
        "\n",
        "Named entities can be accessed from the *ents* properties of a spaCy *Doc*:"
      ]
    },
    {
      "cell_type": "code",
      "metadata": {
        "id": "9bwX_KZWP29D",
        "colab_type": "code",
        "colab": {}
      },
      "source": [
        "text_sentence_7 = u'Apple is looking at buying U.K. startup for 1 billion USD'\n",
        "doc7 = nlp(text_sentence_7)"
      ],
      "execution_count": 0,
      "outputs": []
    },
    {
      "cell_type": "markdown",
      "metadata": {
        "id": "TqzU-QnArT9E",
        "colab_type": "text"
      },
      "source": [
        "There are certain entity properties that can be accessed:\n",
        "\n",
        "* **Text**: The original entity text.\n",
        "* **Start**: Index of start of entity in the Doc.\n",
        "* **End**: Index of end of entity in the Doc.\n",
        "* **Label**: Entity label, i.e. type."
      ]
    },
    {
      "cell_type": "code",
      "metadata": {
        "id": "jpeSXMhhP29H",
        "colab_type": "code",
        "outputId": "bfd2cf15-a3e4-4625-96c7-14ef6d7cc2e1",
        "colab": {
          "base_uri": "https://localhost:8080/",
          "height": 68
        }
      },
      "source": [
        "for ent in doc7.ents:\n",
        "    print(ent.text, ent.start_char, ent.end_char, ent.label_)"
      ],
      "execution_count": 4,
      "outputs": [
        {
          "output_type": "stream",
          "text": [
            "Apple 0 5 ORG\n",
            "U.K. 27 31 GPE\n",
            "1 billion USD 44 57 MONEY\n"
          ],
          "name": "stdout"
        }
      ]
    },
    {
      "cell_type": "code",
      "metadata": {
        "id": "M-kt6zFtP29K",
        "colab_type": "code",
        "outputId": "0b289a0a-0d78-473a-8d9e-a1b191f5a3a0",
        "colab": {
          "base_uri": "https://localhost:8080/",
          "height": 52
        }
      },
      "source": [
        "displacy.render(doc7, style=\"ent\", jupyter=True)"
      ],
      "execution_count": 101,
      "outputs": [
        {
          "output_type": "display_data",
          "data": {
            "text/html": [
              "<div class=\"entities\" style=\"line-height: 2.5; direction: ltr\">\n",
              "<mark class=\"entity\" style=\"background: #7aecec; padding: 0.45em 0.6em; margin: 0 0.25em; line-height: 1; border-radius: 0.35em; box-decoration-break: clone; -webkit-box-decoration-break: clone\">\n",
              "    Apple\n",
              "    <span style=\"font-size: 0.8em; font-weight: bold; line-height: 1; border-radius: 0.35em; text-transform: uppercase; vertical-align: middle; margin-left: 0.5rem\">ORG</span>\n",
              "</mark>\n",
              " is looking at buying \n",
              "<mark class=\"entity\" style=\"background: #feca74; padding: 0.45em 0.6em; margin: 0 0.25em; line-height: 1; border-radius: 0.35em; box-decoration-break: clone; -webkit-box-decoration-break: clone\">\n",
              "    U.K.\n",
              "    <span style=\"font-size: 0.8em; font-weight: bold; line-height: 1; border-radius: 0.35em; text-transform: uppercase; vertical-align: middle; margin-left: 0.5rem\">GPE</span>\n",
              "</mark>\n",
              " startup for \n",
              "<mark class=\"entity\" style=\"background: #e4e7d2; padding: 0.45em 0.6em; margin: 0 0.25em; line-height: 1; border-radius: 0.35em; box-decoration-break: clone; -webkit-box-decoration-break: clone\">\n",
              "    1 billion USD\n",
              "    <span style=\"font-size: 0.8em; font-weight: bold; line-height: 1; border-radius: 0.35em; text-transform: uppercase; vertical-align: middle; margin-left: 0.5rem\">MONEY</span>\n",
              "</mark>\n",
              "</div>"
            ],
            "text/plain": [
              "<IPython.core.display.HTML object>"
            ]
          },
          "metadata": {
            "tags": []
          }
        }
      ]
    },
    {
      "cell_type": "code",
      "metadata": {
        "id": "LBS2-ke3-vLv",
        "colab_type": "code",
        "colab": {
          "base_uri": "https://localhost:8080/",
          "height": 297
        },
        "outputId": "0cce6fd3-d984-472c-990e-ab19ba194974"
      },
      "source": [
        "displacy.render(doc6, style=\"ent\", jupyter=True)"
      ],
      "execution_count": 102,
      "outputs": [
        {
          "output_type": "display_data",
          "data": {
            "text/html": [
              "<div class=\"entities\" style=\"line-height: 2.5; direction: ltr\">In ancient \n",
              "<mark class=\"entity\" style=\"background: #feca74; padding: 0.45em 0.6em; margin: 0 0.25em; line-height: 1; border-radius: 0.35em; box-decoration-break: clone; -webkit-box-decoration-break: clone\">\n",
              "    Rome\n",
              "    <span style=\"font-size: 0.8em; font-weight: bold; line-height: 1; border-radius: 0.35em; text-transform: uppercase; vertical-align: middle; margin-left: 0.5rem\">GPE</span>\n",
              "</mark>\n",
              ", some neighbors live in \n",
              "<mark class=\"entity\" style=\"background: #e4e7d2; padding: 0.45em 0.6em; margin: 0 0.25em; line-height: 1; border-radius: 0.35em; box-decoration-break: clone; -webkit-box-decoration-break: clone\">\n",
              "    three\n",
              "    <span style=\"font-size: 0.8em; font-weight: bold; line-height: 1; border-radius: 0.35em; text-transform: uppercase; vertical-align: middle; margin-left: 0.5rem\">CARDINAL</span>\n",
              "</mark>\n",
              " adjacent houses. In the center is the house of \n",
              "<mark class=\"entity\" style=\"background: #aa9cfc; padding: 0.45em 0.6em; margin: 0 0.25em; line-height: 1; border-radius: 0.35em; box-decoration-break: clone; -webkit-box-decoration-break: clone\">\n",
              "    Senex\n",
              "    <span style=\"font-size: 0.8em; font-weight: bold; line-height: 1; border-radius: 0.35em; text-transform: uppercase; vertical-align: middle; margin-left: 0.5rem\">PERSON</span>\n",
              "</mark>\n",
              ", who lives there with wife \n",
              "<mark class=\"entity\" style=\"background: #aa9cfc; padding: 0.45em 0.6em; margin: 0 0.25em; line-height: 1; border-radius: 0.35em; box-decoration-break: clone; -webkit-box-decoration-break: clone\">\n",
              "    Domina\n",
              "    <span style=\"font-size: 0.8em; font-weight: bold; line-height: 1; border-radius: 0.35em; text-transform: uppercase; vertical-align: middle; margin-left: 0.5rem\">PERSON</span>\n",
              "</mark>\n",
              ", son \n",
              "<mark class=\"entity\" style=\"background: #aa9cfc; padding: 0.45em 0.6em; margin: 0 0.25em; line-height: 1; border-radius: 0.35em; box-decoration-break: clone; -webkit-box-decoration-break: clone\">\n",
              "    Hero\n",
              "    <span style=\"font-size: 0.8em; font-weight: bold; line-height: 1; border-radius: 0.35em; text-transform: uppercase; vertical-align: middle; margin-left: 0.5rem\">PERSON</span>\n",
              "</mark>\n",
              ", and several slaves, including head slave \n",
              "<mark class=\"entity\" style=\"background: #feca74; padding: 0.45em 0.6em; margin: 0 0.25em; line-height: 1; border-radius: 0.35em; box-decoration-break: clone; -webkit-box-decoration-break: clone\">\n",
              "    Hysterium\n",
              "    <span style=\"font-size: 0.8em; font-weight: bold; line-height: 1; border-radius: 0.35em; text-transform: uppercase; vertical-align: middle; margin-left: 0.5rem\">GPE</span>\n",
              "</mark>\n",
              " and the musical's main character Pseudolus. A slave belonging to \n",
              "<mark class=\"entity\" style=\"background: #aa9cfc; padding: 0.45em 0.6em; margin: 0 0.25em; line-height: 1; border-radius: 0.35em; box-decoration-break: clone; -webkit-box-decoration-break: clone\">\n",
              "    Hero\n",
              "    <span style=\"font-size: 0.8em; font-weight: bold; line-height: 1; border-radius: 0.35em; text-transform: uppercase; vertical-align: middle; margin-left: 0.5rem\">PERSON</span>\n",
              "</mark>\n",
              ", Pseudolus wishes to buy, win, or steal his freedom. \n",
              "<mark class=\"entity\" style=\"background: #e4e7d2; padding: 0.45em 0.6em; margin: 0 0.25em; line-height: 1; border-radius: 0.35em; box-decoration-break: clone; -webkit-box-decoration-break: clone\">\n",
              "    One\n",
              "    <span style=\"font-size: 0.8em; font-weight: bold; line-height: 1; border-radius: 0.35em; text-transform: uppercase; vertical-align: middle; margin-left: 0.5rem\">CARDINAL</span>\n",
              "</mark>\n",
              " of the neighboring houses is owned by \n",
              "<mark class=\"entity\" style=\"background: #aa9cfc; padding: 0.45em 0.6em; margin: 0 0.25em; line-height: 1; border-radius: 0.35em; box-decoration-break: clone; -webkit-box-decoration-break: clone\">\n",
              "    Marcus Lycus\n",
              "    <span style=\"font-size: 0.8em; font-weight: bold; line-height: 1; border-radius: 0.35em; text-transform: uppercase; vertical-align: middle; margin-left: 0.5rem\">PERSON</span>\n",
              "</mark>\n",
              ", who is a buyer and seller of beautiful women; the other belongs to the ancient \n",
              "<mark class=\"entity\" style=\"background: #7aecec; padding: 0.45em 0.6em; margin: 0 0.25em; line-height: 1; border-radius: 0.35em; box-decoration-break: clone; -webkit-box-decoration-break: clone\">\n",
              "    Erronius\n",
              "    <span style=\"font-size: 0.8em; font-weight: bold; line-height: 1; border-radius: 0.35em; text-transform: uppercase; vertical-align: middle; margin-left: 0.5rem\">ORG</span>\n",
              "</mark>\n",
              ", who is abroad searching for his long-lost children (stolen in infancy by pirates). \n",
              "<mark class=\"entity\" style=\"background: #e4e7d2; padding: 0.45em 0.6em; margin: 0 0.25em; line-height: 1; border-radius: 0.35em; box-decoration-break: clone; -webkit-box-decoration-break: clone\">\n",
              "    One\n",
              "    <span style=\"font-size: 0.8em; font-weight: bold; line-height: 1; border-radius: 0.35em; text-transform: uppercase; vertical-align: middle; margin-left: 0.5rem\">CARDINAL</span>\n",
              "</mark>\n",
              " day, \n",
              "<mark class=\"entity\" style=\"background: #aa9cfc; padding: 0.45em 0.6em; margin: 0 0.25em; line-height: 1; border-radius: 0.35em; box-decoration-break: clone; -webkit-box-decoration-break: clone\">\n",
              "    Senex\n",
              "    <span style=\"font-size: 0.8em; font-weight: bold; line-height: 1; border-radius: 0.35em; text-transform: uppercase; vertical-align: middle; margin-left: 0.5rem\">PERSON</span>\n",
              "</mark>\n",
              " and \n",
              "<mark class=\"entity\" style=\"background: #c887fb; padding: 0.45em 0.6em; margin: 0 0.25em; line-height: 1; border-radius: 0.35em; box-decoration-break: clone; -webkit-box-decoration-break: clone\">\n",
              "    Domina\n",
              "    <span style=\"font-size: 0.8em; font-weight: bold; line-height: 1; border-radius: 0.35em; text-transform: uppercase; vertical-align: middle; margin-left: 0.5rem\">NORP</span>\n",
              "</mark>\n",
              " go on a trip and leave Pseudolus in charge of \n",
              "<mark class=\"entity\" style=\"background: #aa9cfc; padding: 0.45em 0.6em; margin: 0 0.25em; line-height: 1; border-radius: 0.35em; box-decoration-break: clone; -webkit-box-decoration-break: clone\">\n",
              "    Hero\n",
              "    <span style=\"font-size: 0.8em; font-weight: bold; line-height: 1; border-radius: 0.35em; text-transform: uppercase; vertical-align: middle; margin-left: 0.5rem\">PERSON</span>\n",
              "</mark>\n",
              ". \n",
              "<mark class=\"entity\" style=\"background: #aa9cfc; padding: 0.45em 0.6em; margin: 0 0.25em; line-height: 1; border-radius: 0.35em; box-decoration-break: clone; -webkit-box-decoration-break: clone\">\n",
              "    Hero\n",
              "    <span style=\"font-size: 0.8em; font-weight: bold; line-height: 1; border-radius: 0.35em; text-transform: uppercase; vertical-align: middle; margin-left: 0.5rem\">PERSON</span>\n",
              "</mark>\n",
              " confides in \n",
              "<mark class=\"entity\" style=\"background: #feca74; padding: 0.45em 0.6em; margin: 0 0.25em; line-height: 1; border-radius: 0.35em; box-decoration-break: clone; -webkit-box-decoration-break: clone\">\n",
              "    Pseudolus\n",
              "    <span style=\"font-size: 0.8em; font-weight: bold; line-height: 1; border-radius: 0.35em; text-transform: uppercase; vertical-align: middle; margin-left: 0.5rem\">GPE</span>\n",
              "</mark>\n",
              " that he is in love with the lovely \n",
              "<mark class=\"entity\" style=\"background: #feca74; padding: 0.45em 0.6em; margin: 0 0.25em; line-height: 1; border-radius: 0.35em; box-decoration-break: clone; -webkit-box-decoration-break: clone\">\n",
              "    Philia\n",
              "    <span style=\"font-size: 0.8em; font-weight: bold; line-height: 1; border-radius: 0.35em; text-transform: uppercase; vertical-align: middle; margin-left: 0.5rem\">GPE</span>\n",
              "</mark>\n",
              ", \n",
              "<mark class=\"entity\" style=\"background: #e4e7d2; padding: 0.45em 0.6em; margin: 0 0.25em; line-height: 1; border-radius: 0.35em; box-decoration-break: clone; -webkit-box-decoration-break: clone\">\n",
              "    one\n",
              "    <span style=\"font-size: 0.8em; font-weight: bold; line-height: 1; border-radius: 0.35em; text-transform: uppercase; vertical-align: middle; margin-left: 0.5rem\">CARDINAL</span>\n",
              "</mark>\n",
              " of the courtesans in \n",
              "<mark class=\"entity\" style=\"background: #7aecec; padding: 0.45em 0.6em; margin: 0 0.25em; line-height: 1; border-radius: 0.35em; box-decoration-break: clone; -webkit-box-decoration-break: clone\">\n",
              "    the House of Lycus\n",
              "    <span style=\"font-size: 0.8em; font-weight: bold; line-height: 1; border-radius: 0.35em; text-transform: uppercase; vertical-align: middle; margin-left: 0.5rem\">ORG</span>\n",
              "</mark>\n",
              " (albeit still a virgin).</div>"
            ],
            "text/plain": [
              "<IPython.core.display.HTML object>"
            ]
          },
          "metadata": {
            "tags": []
          }
        }
      ]
    },
    {
      "cell_type": "markdown",
      "metadata": {
        "id": "cTx01agLvxGi",
        "colab_type": "text"
      },
      "source": [
        "## Word vectors and similarity\n",
        "\n",
        "The similarity or distance between two words can be done by comparing **word vectors** or *word embeddings*, which are multi-dimensional meaning representations of a word.\n",
        "\n",
        "Word vectors are usually created by using an algorithm like word2vec.\n",
        "\n",
        "To make them compact and fast, spaCy’s small models (all packages that end in sm) don’t ship with word vectors, and only include context-sensitive tensors. This means you can still use the similarity() methods to compare documents, spans and tokens – but the result won’t be as good, and individual tokens won’t have any vectors assigned. So in order to use real word vectors, you need to download a larger model, such as `en_core_web_md` or `en_core_web_lg`.\n",
        "\n",
        "**IMPORTANT!!** In Google Colab, download the following cell and then restart runtime to locate the downloaded model.\n",
        "\n",
        "A word vector looks like the following array: \n",
        "\n",
        "![alt text](https://miro.medium.com/max/560/1*Bp64BP0Buo9ZZWIyh6QzEQ.png)"
      ]
    },
    {
      "cell_type": "code",
      "metadata": {
        "id": "f2lQoQpowKC-",
        "colab_type": "code",
        "colab": {
          "base_uri": "https://localhost:8080/",
          "height": 241
        },
        "outputId": "474f3ad2-c11f-49d2-8906-bb1f3f928640"
      },
      "source": [
        "!python -m spacy download en_core_web_md"
      ],
      "execution_count": 8,
      "outputs": [
        {
          "output_type": "stream",
          "text": [
            "Collecting en_core_web_lg==2.1.0\n",
            "\u001b[?25l  Downloading https://github.com/explosion/spacy-models/releases/download/en_core_web_lg-2.1.0/en_core_web_lg-2.1.0.tar.gz (826.9MB)\n",
            "\u001b[K     |████████████████████████████████| 826.9MB 36.5MB/s \n",
            "\u001b[?25hBuilding wheels for collected packages: en-core-web-lg\n",
            "  Building wheel for en-core-web-lg (setup.py) ... \u001b[?25l\u001b[?25hdone\n",
            "  Created wheel for en-core-web-lg: filename=en_core_web_lg-2.1.0-cp36-none-any.whl size=828255076 sha256=cb4110a2d0ee7899d97a29a3693f6b94b8132a7f00747165c8634e24ae057c69\n",
            "  Stored in directory: /tmp/pip-ephem-wheel-cache-j5zk6zmc/wheels/b4/d7/70/426d313a459f82ed5e06cc36a50e2bb2f0ec5cb31d8e0bdf09\n",
            "Successfully built en-core-web-lg\n",
            "Installing collected packages: en-core-web-lg\n",
            "Successfully installed en-core-web-lg-2.1.0\n",
            "\u001b[38;5;2m✔ Download and installation successful\u001b[0m\n",
            "You can now load the model via spacy.load('en_core_web_lg')\n"
          ],
          "name": "stdout"
        }
      ]
    },
    {
      "cell_type": "markdown",
      "metadata": {
        "id": "aWqmnIZa0yzy",
        "colab_type": "text"
      },
      "source": [
        "The word vectors can be explored with the following techniques then:\n",
        "\n",
        "* **Text**: The original token text.\n",
        "* **has vector**: Does the token have a vector representation?\n",
        "* **Vector norm**: The L2 norm of the token’s vector (the square root of the sum of the values squared)\n",
        "* **OOV**: Out-of-vocabulary"
      ]
    },
    {
      "cell_type": "code",
      "metadata": {
        "id": "fkPFASlR_iOI",
        "colab_type": "code",
        "colab": {
          "base_uri": "https://localhost:8080/",
          "height": 139
        },
        "outputId": "b79bc861-dfe7-455c-f392-926960444c15"
      },
      "source": [
        "import spacy\n",
        "\n",
        "nlp = spacy.load(\"en_core_web_md\")\n",
        "tokens = nlp(\"dog cat banana afskfsd\")\n",
        "\n",
        "for token in tokens:\n",
        "    print(token.text, token.has_vector, token.vector_norm, token.is_oov)"
      ],
      "execution_count": 2,
      "outputs": [
        {
          "output_type": "stream",
          "text": [
            "/usr/lib/python3.6/runpy.py:193: UserWarning: [W019] Changing vectors name from en_model.vectors to en_model.vectors_20000, to avoid clash with previously loaded vectors. See Issue #3853.\n",
            "  \"__main__\", mod_spec)\n"
          ],
          "name": "stderr"
        },
        {
          "output_type": "stream",
          "text": [
            "dog True 7.0336733 False\n",
            "cat True 6.6808186 False\n",
            "banana True 6.700014 False\n",
            "afskfsd False 0.0 True\n"
          ],
          "name": "stdout"
        }
      ]
    },
    {
      "cell_type": "markdown",
      "metadata": {
        "id": "QT-fbAZf2bfB",
        "colab_type": "text"
      },
      "source": [
        "The words “dog”, “cat” and “banana” are all pretty common in English, so they’re part of the model’s vocabulary, and come with a vector. The word “afskfsd” on the other hand is a lot less common and out-of-vocabulary – so its vector representation consists of 300 dimensions of 0, which means it’s practically nonexistent. \n",
        "\n",
        "spaCy is able to compare two objects, and make a prediction of how similar they are. Predicting similarity is useful for building recommendation systems or flagging duplicates. For example, you can suggest a user content that’s similar to what they’re currently looking at, or label a support ticket as a duplicate if it’s very similar to an already existing one.\n",
        "\n",
        "Each Doc, Span and Token comes with a .similarity() method that lets you compare it with another object, and determine the similarity. Of course similarity is always subjective – whether “dog” and “cat” are similar really depends on how you’re looking at it. spaCy’s similarity model usually assumes a pretty general-purpose definition of similarity."
      ]
    },
    {
      "cell_type": "code",
      "metadata": {
        "id": "QM55wLVeyra1",
        "colab_type": "code",
        "colab": {
          "base_uri": "https://localhost:8080/",
          "height": 224
        },
        "outputId": "81da53a1-7856-4770-97df-1a31f147a614"
      },
      "source": [
        "import spacy\n",
        "\n",
        "nlp = spacy.load(\"en_core_web_md\")  # make sure to use larger model!\n",
        "tokens = nlp(\"dog cat banana\")\n",
        "\n",
        "for token1 in tokens:\n",
        "    for token2 in tokens:\n",
        "        print(token1.text, token2.text, token1.similarity(token2))"
      ],
      "execution_count": 3,
      "outputs": [
        {
          "output_type": "stream",
          "text": [
            "/usr/lib/python3.6/runpy.py:193: UserWarning: [W019] Changing vectors name from en_model.vectors to en_model.vectors_20000, to avoid clash with previously loaded vectors. See Issue #3853.\n",
            "  \"__main__\", mod_spec)\n"
          ],
          "name": "stderr"
        },
        {
          "output_type": "stream",
          "text": [
            "dog dog 1.0\n",
            "dog cat 0.80168545\n",
            "dog banana 0.24327643\n",
            "cat dog 0.80168545\n",
            "cat cat 1.0\n",
            "cat banana 0.28154364\n",
            "banana dog 0.24327643\n",
            "banana cat 0.28154364\n",
            "banana banana 1.0\n"
          ],
          "name": "stdout"
        }
      ]
    },
    {
      "cell_type": "markdown",
      "metadata": {
        "id": "PaCnvLAi6iGW",
        "colab_type": "text"
      },
      "source": [
        "## The Vocab object\n",
        "\n",
        "spaCy tries to store the data in a vocabulary, i.e. `Vocab` that is shared by multiple documents. \n",
        "\n",
        "To save memory, spaCy also encodes all strings to hash values – in this case for example, “coffee” has the hash 3197928453018144401. Entity labels like “ORG” and part-of-speech tags like “VERB” are also encoded. Internally, spaCy only “speaks” in hash values.\n",
        "\n",
        "* **Token**: A word, punctuation mark etc. in context, including its attributes, tags and dependencies.\n",
        "* **Lexeme**: A “word type” with no context. Includes the word shape and flags, e.g. if it’s lowercase, a digit or punctuation.\n",
        "* **Doc**: A processed container of tokens in context.\n",
        "* **Vocab**: The collection of lexemes.\n",
        "* **StringStore**: The dictionary mapping hash values to strings, for example 3197928453018144401 → “coffee”.\n",
        "\n",
        "Thus: \n",
        "\n",
        "* `Vocab` objects contain a set of look-up tables that make common information available across documents.\n",
        "* Indexing the `Vocab` retrieves a `Lexeme`, which contains all the context-independent information about a word.\n",
        "\n",
        "![alt text](https://spacy.io/vocab_stringstore-1d1c9ccd7a1cf4d168bfe4ca791e6eed.svg)\n",
        "\n"
      ]
    },
    {
      "cell_type": "code",
      "metadata": {
        "id": "Qj-5mite9mIK",
        "colab_type": "code",
        "colab": {
          "base_uri": "https://localhost:8080/",
          "height": 34
        },
        "outputId": "6e103ca2-39a5-4f59-be0b-8f483c8e2c8d"
      },
      "source": [
        "nlp.vocab"
      ],
      "execution_count": 4,
      "outputs": [
        {
          "output_type": "execute_result",
          "data": {
            "text/plain": [
              "<spacy.vocab.Vocab at 0x7f8565e89138>"
            ]
          },
          "metadata": {
            "tags": []
          },
          "execution_count": 4
        }
      ]
    },
    {
      "cell_type": "code",
      "metadata": {
        "id": "Vg-Q-_XV9sqm",
        "colab_type": "code",
        "colab": {
          "base_uri": "https://localhost:8080/",
          "height": 34
        },
        "outputId": "59bfdc59-2db5-4929-a615-694204815ec2"
      },
      "source": [
        "doc7.vocab[\"Apple\"]"
      ],
      "execution_count": 6,
      "outputs": [
        {
          "output_type": "execute_result",
          "data": {
            "text/plain": [
              "<spacy.lexeme.Lexeme at 0x7f85670315a0>"
            ]
          },
          "metadata": {
            "tags": []
          },
          "execution_count": 6
        }
      ]
    },
    {
      "cell_type": "code",
      "metadata": {
        "id": "vjCFRsyo94G1",
        "colab_type": "code",
        "colab": {
          "base_uri": "https://localhost:8080/",
          "height": 34
        },
        "outputId": "a7def412-7c4d-4a82-9b98-bc8794d7e6a4"
      },
      "source": [
        "lex = doc7.vocab[\"million\"]\n",
        "lex"
      ],
      "execution_count": 7,
      "outputs": [
        {
          "output_type": "execute_result",
          "data": {
            "text/plain": [
              "<spacy.lexeme.Lexeme at 0x7f8567031558>"
            ]
          },
          "metadata": {
            "tags": []
          },
          "execution_count": 7
        }
      ]
    },
    {
      "cell_type": "code",
      "metadata": {
        "id": "dixcACbB994o",
        "colab_type": "code",
        "colab": {
          "base_uri": "https://localhost:8080/",
          "height": 34
        },
        "outputId": "ffbbb94e-10a1-461d-a66b-e27567f509fb"
      },
      "source": [
        "lex.shape_"
      ],
      "execution_count": 8,
      "outputs": [
        {
          "output_type": "execute_result",
          "data": {
            "text/plain": [
              "'xxxx'"
            ]
          },
          "metadata": {
            "tags": []
          },
          "execution_count": 8
        }
      ]
    },
    {
      "cell_type": "code",
      "metadata": {
        "id": "-1I3Kp_V-AzH",
        "colab_type": "code",
        "colab": {
          "base_uri": "https://localhost:8080/",
          "height": 34
        },
        "outputId": "c65ab9d6-c5d9-49cf-c78d-16fcd1979118"
      },
      "source": [
        "lex.text"
      ],
      "execution_count": 9,
      "outputs": [
        {
          "output_type": "execute_result",
          "data": {
            "text/plain": [
              "'million'"
            ]
          },
          "metadata": {
            "tags": []
          },
          "execution_count": 9
        }
      ]
    },
    {
      "cell_type": "code",
      "metadata": {
        "id": "T6gbPjeh-B_j",
        "colab_type": "code",
        "colab": {
          "base_uri": "https://localhost:8080/",
          "height": 34
        },
        "outputId": "addbcaeb-bae4-42ce-f58c-e451840d7360"
      },
      "source": [
        "lex.is_alpha"
      ],
      "execution_count": 10,
      "outputs": [
        {
          "output_type": "execute_result",
          "data": {
            "text/plain": [
              "True"
            ]
          },
          "metadata": {
            "tags": []
          },
          "execution_count": 10
        }
      ]
    },
    {
      "cell_type": "markdown",
      "metadata": {
        "id": "pgVUba0w6x-c",
        "colab_type": "text"
      },
      "source": [
        "# Hands on: practical examples"
      ]
    },
    {
      "cell_type": "markdown",
      "metadata": {
        "id": "KQJAS9b67KIB",
        "colab_type": "text"
      },
      "source": [
        "## Word frequency\n",
        "\n",
        "We can compute the word frequency on a text using spaCy. Within the Holy Grail dataset, lets:\n",
        "\n",
        "\n",
        "\n",
        "*   Let's find the 5 most common nouns\n",
        "*   Let's find the 20 most common lemmas that are not stopwords\n",
        "\n"
      ]
    },
    {
      "cell_type": "markdown",
      "metadata": {
        "id": "q5ltWhKMGdbM",
        "colab_type": "text"
      },
      "source": [
        "### Find the 5 most common nouns"
      ]
    },
    {
      "cell_type": "code",
      "metadata": {
        "id": "uZ3zlWUS602k",
        "colab_type": "code",
        "colab": {
          "base_uri": "https://localhost:8080/",
          "height": 224
        },
        "outputId": "8f824c4a-6df8-478e-c46e-28def711db38"
      },
      "source": [
        "!wget 'https://raw.githubusercontent.com/vfp1/bts-mbds-data-science-foundations-2019/master/sessions/data/holy_grail.txt'"
      ],
      "execution_count": 19,
      "outputs": [
        {
          "output_type": "stream",
          "text": [
            "--2019-10-29 01:05:25--  https://raw.githubusercontent.com/vfp1/bts-mbds-data-science-foundations-2019/master/sessions/data/holy_grail.txt\n",
            "Resolving raw.githubusercontent.com (raw.githubusercontent.com)... 151.101.0.133, 151.101.64.133, 151.101.128.133, ...\n",
            "Connecting to raw.githubusercontent.com (raw.githubusercontent.com)|151.101.0.133|:443... connected.\n",
            "HTTP request sent, awaiting response... 200 OK\n",
            "Length: 65003 (63K) [text/plain]\n",
            "Saving to: ‘holy_grail.txt’\n",
            "\n",
            "\rholy_grail.txt        0%[                    ]       0  --.-KB/s               \rholy_grail.txt      100%[===================>]  63.48K  --.-KB/s    in 0.02s   \n",
            "\n",
            "2019-10-29 01:05:26 (2.57 MB/s) - ‘holy_grail.txt’ saved [65003/65003]\n",
            "\n"
          ],
          "name": "stdout"
        }
      ]
    },
    {
      "cell_type": "code",
      "metadata": {
        "id": "A8ETiMYyBkqo",
        "colab_type": "code",
        "colab": {}
      },
      "source": [
        "import spacy\n",
        "\n",
        "nlp = spacy.load(\"en\")\n",
        "\n",
        "holy_grail = nlp(open('holy_grail.txt', 'r').read())"
      ],
      "execution_count": 0,
      "outputs": []
    },
    {
      "cell_type": "code",
      "metadata": {
        "id": "LMsQCxazDBe-",
        "colab_type": "code",
        "colab": {}
      },
      "source": [
        "from collections import Counter\n",
        "from spacy.lang.en.stop_words import STOP_WORDS\n",
        "\n",
        "char_counter = Counter()\n",
        "\n",
        "for token in holy_grail:\n",
        "    if token.pos_ == 'NOUN' and token.text not in STOP_WORDS and token.text != '#':\n",
        "        char_counter[token.text] += 1"
      ],
      "execution_count": 0,
      "outputs": []
    },
    {
      "cell_type": "code",
      "metadata": {
        "id": "2ryIDsxuDONW",
        "colab_type": "code",
        "colab": {
          "base_uri": "https://localhost:8080/",
          "height": 102
        },
        "outputId": "4ddf760b-8969-4c37-8f0c-2423f1eb4985"
      },
      "source": [
        "char_counter.most_common(5)"
      ],
      "execution_count": 47,
      "outputs": [
        {
          "output_type": "execute_result",
          "data": {
            "text/plain": [
              "[('ARTHUR', 216),\n",
              " ('GALAHAD', 69),\n",
              " ('LAUNCELOT', 56),\n",
              " ('GUARD', 53),\n",
              " ('VILLAGER', 47)]"
            ]
          },
          "metadata": {
            "tags": []
          },
          "execution_count": 47
        }
      ]
    },
    {
      "cell_type": "markdown",
      "metadata": {
        "id": "hdz3FWI9Gi79",
        "colab_type": "text"
      },
      "source": [
        "### Find the 20 most common lemmas that are not stopwords"
      ]
    },
    {
      "cell_type": "code",
      "metadata": {
        "id": "NIXHe3iCGxMx",
        "colab_type": "code",
        "colab": {}
      },
      "source": [
        "from collections import Counter\n",
        "from spacy.lang.en.stop_words import STOP_WORDS\n",
        "\n",
        "lemmas = Counter()\n",
        "\n",
        "for token in holy_grail:\n",
        "    if not token.is_punct and not token.is_space and token.lower_ not in STOP_WORDS:\n",
        "        lemmas[token.lemma_] += 1"
      ],
      "execution_count": 0,
      "outputs": []
    },
    {
      "cell_type": "code",
      "metadata": {
        "id": "yAn8t5kKHRMB",
        "colab_type": "code",
        "colab": {
          "base_uri": "https://localhost:8080/",
          "height": 357
        },
        "outputId": "241e965a-0082-4eab-d45d-081f6634bb24"
      },
      "source": [
        "counts = Counter(lemmas)\n",
        "counts.most_common(20)"
      ],
      "execution_count": 64,
      "outputs": [
        {
          "output_type": "execute_result",
          "data": {
            "text/plain": [
              "[('arthur', 216),\n",
              " ('oh', 110),\n",
              " ('1', 76),\n",
              " ('GALAHAD', 69),\n",
              " ('KNIGHT', 67),\n",
              " ('bedevere', 62),\n",
              " ('ha', 59),\n",
              " ('right', 55),\n",
              " ('yes', 53),\n",
              " ('FATHER', 53),\n",
              " ('Sir', 52),\n",
              " ('LAUNCELOT', 51),\n",
              " ('villager', 49),\n",
              " ('come', 46),\n",
              " ('witch', 45),\n",
              " ('boom', 45),\n",
              " ('guard', 44),\n",
              " ('2', 42),\n",
              " ('clop', 39),\n",
              " ('burn', 39)]"
            ]
          },
          "metadata": {
            "tags": []
          },
          "execution_count": 64
        }
      ]
    },
    {
      "cell_type": "markdown",
      "metadata": {
        "id": "rRRSwVjpJXxF",
        "colab_type": "text"
      },
      "source": [
        "### Your turn\n",
        "\n",
        "* Let's find the 5 most common verbs\n",
        "* Let's find the 5 most common personal names\n",
        "* Let's find the 20 most common lemmas that are not stopwords, not numbers and not personal names\n",
        "* What happens? Why some strange character appears? Next session we will learn how to filter through those to create cool t-SNE graphs"
      ]
    },
    {
      "cell_type": "markdown",
      "metadata": {
        "id": "8_xXkO_b7WrG",
        "colab_type": "text"
      },
      "source": [
        "## Dispersion plots\n",
        "\n",
        "1. Load the `holy_grail.txt` dataset and create a dictionary of names and indexes like `{\"NAME\": [1, 2, 5, 10, ...]}` to store when does each proper noun appear among the 5 most frequent ones.\n",
        "2. Visualize the appearances of the character that is named the most.\n",
        "3. Visualize in the same graph the appearances of the top 5 characters to compare them."
      ]
    },
    {
      "cell_type": "code",
      "metadata": {
        "id": "Jma_xH1s7YD0",
        "colab_type": "code",
        "colab": {}
      },
      "source": [
        "from spacy import load\n",
        "\n",
        "nlp = load(\"en\")"
      ],
      "execution_count": 0,
      "outputs": []
    },
    {
      "cell_type": "code",
      "metadata": {
        "id": "lY3hpd3VIIDb",
        "colab_type": "code",
        "colab": {}
      },
      "source": [
        "holy_grail = nlp(open(\"holy_grail.txt\", 'r').read())"
      ],
      "execution_count": 0,
      "outputs": []
    },
    {
      "cell_type": "code",
      "metadata": {
        "id": "lcUhtPg3KMYa",
        "colab_type": "code",
        "colab": {}
      },
      "source": [
        "from collections import Counter\n",
        "\n",
        "char_counter = Counter()\n",
        "\n",
        "for token in holy_grail:\n",
        "    if token.pos_ == 'PROPN':\n",
        "        char_counter[token.text] += 1"
      ],
      "execution_count": 0,
      "outputs": []
    },
    {
      "cell_type": "code",
      "metadata": {
        "id": "FQLta8KLKQhc",
        "colab_type": "code",
        "colab": {
          "base_uri": "https://localhost:8080/",
          "height": 34
        },
        "outputId": "fd4b2cf1-b7d1-4a12-c78b-f58456e739c8"
      },
      "source": [
        "char_counter.most_common(5)"
      ],
      "execution_count": 89,
      "outputs": [
        {
          "output_type": "execute_result",
          "data": {
            "text/plain": [
              "[('KNIGHT', 58), ('FATHER', 53), ('Sir', 52), ('Arthur', 36), ('HEAD', 36)]"
            ]
          },
          "metadata": {
            "tags": []
          },
          "execution_count": 89
        }
      ]
    },
    {
      "cell_type": "markdown",
      "metadata": {
        "id": "gZSZrhV_ML2C",
        "colab_type": "text"
      },
      "source": [
        "We get Sir or HEAD within the characters, actually HEAD is a character, but Sir is not, let's change that using a `special case`, instead of the longer and ardous task of training."
      ]
    },
    {
      "cell_type": "code",
      "metadata": {
        "id": "_Mpqv-9tMeUu",
        "colab_type": "code",
        "colab": {}
      },
      "source": [
        "import spacy\n",
        "\n",
        "from spacy.symbols import ORTH, POS, NOUN, VERB, TAG\n",
        "\n",
        "nlp_modified = spacy.load('en')\n",
        "nlp_modified.tokenizer.add_special_case('Sir', [{ORTH: 'Sir', POS: NOUN, TAG: NOUN}])\n",
        "nlp_modified.tokenizer.add_special_case('Grail', [{ORTH: 'Grail', POS: NOUN, TAG: NOUN}])\n",
        "nlp_modified.tokenizer.add_special_case('BLACK', [{ORTH: 'BLACK', POS: NOUN, TAG: NOUN}])"
      ],
      "execution_count": 0,
      "outputs": []
    },
    {
      "cell_type": "markdown",
      "metadata": {
        "id": "SjikAIe0Mtmy",
        "colab_type": "text"
      },
      "source": [
        "Let's try it again"
      ]
    },
    {
      "cell_type": "code",
      "metadata": {
        "id": "7eu6fFJRM9nB",
        "colab_type": "code",
        "colab": {}
      },
      "source": [
        "holy_grail2 = nlp_modified(open(\"holy_grail.txt\", 'r').read())"
      ],
      "execution_count": 0,
      "outputs": []
    },
    {
      "cell_type": "code",
      "metadata": {
        "id": "xCaMiq2lMxUm",
        "colab_type": "code",
        "colab": {}
      },
      "source": [
        "from collections import Counter\n",
        "\n",
        "char_counter2 = Counter()\n",
        "\n",
        "for token in holy_grail2:\n",
        "    if token.pos_ == 'PROPN':\n",
        "        char_counter2[token.text] += 1"
      ],
      "execution_count": 0,
      "outputs": []
    },
    {
      "cell_type": "code",
      "metadata": {
        "id": "ERH8zzWgMzI6",
        "colab_type": "code",
        "colab": {
          "base_uri": "https://localhost:8080/",
          "height": 34
        },
        "outputId": "529e3243-f456-452c-e5a9-da852d8809e8"
      },
      "source": [
        "char_counter2.most_common(5)"
      ],
      "execution_count": 29,
      "outputs": [
        {
          "output_type": "execute_result",
          "data": {
            "text/plain": [
              "[('KNIGHT', 58), ('FATHER', 53), ('Arthur', 36), ('HEAD', 36), ('KNIGHTS', 27)]"
            ]
          },
          "metadata": {
            "tags": []
          },
          "execution_count": 29
        }
      ]
    },
    {
      "cell_type": "markdown",
      "metadata": {
        "id": "BDL1Cl_wRpMB",
        "colab_type": "text"
      },
      "source": [
        "### Visualize the most"
      ]
    },
    {
      "cell_type": "code",
      "metadata": {
        "id": "lH8gjzkYRtOp",
        "colab_type": "code",
        "colab": {
          "base_uri": "https://localhost:8080/",
          "height": 34
        },
        "outputId": "7df94ade-0911-4dc9-8639-ccf76ef43476"
      },
      "source": [
        "char_counter2.most_common(1)"
      ],
      "execution_count": 36,
      "outputs": [
        {
          "output_type": "execute_result",
          "data": {
            "text/plain": [
              "[('KNIGHT', 58)]"
            ]
          },
          "metadata": {
            "tags": []
          },
          "execution_count": 36
        }
      ]
    },
    {
      "cell_type": "code",
      "metadata": {
        "id": "6Ceu5EvnKQ5-",
        "colab_type": "code",
        "colab": {}
      },
      "source": [
        "names, _ = zip(*char_counter2.most_common(1))"
      ],
      "execution_count": 0,
      "outputs": []
    },
    {
      "cell_type": "code",
      "metadata": {
        "id": "IS94mXKWPh0t",
        "colab_type": "code",
        "colab": {}
      },
      "source": [
        "from collections import defaultdict\n",
        "\n",
        "import matplotlib.pyplot as plt"
      ],
      "execution_count": 0,
      "outputs": []
    },
    {
      "cell_type": "code",
      "metadata": {
        "id": "xAu-X9I1RHLt",
        "colab_type": "code",
        "colab": {}
      },
      "source": [
        "indexes = defaultdict(list)\n",
        "\n",
        "for token in holy_grail2:\n",
        "    if token.text in names:\n",
        "        indexes[token.text].append(token.i)"
      ],
      "execution_count": 0,
      "outputs": []
    },
    {
      "cell_type": "code",
      "metadata": {
        "id": "Ie9U4y2uRKa2",
        "colab_type": "code",
        "colab": {
          "base_uri": "https://localhost:8080/",
          "height": 312
        },
        "outputId": "600fe371-be30-473f-9142-62a9cd32f2ef"
      },
      "source": [
        "fig, axes = plt.subplots()\n",
        "\n",
        "axes.eventplot(indexes[name], label=name)\n",
        "axes.get_yaxis().set_visible(False)\n",
        "\n",
        "fig.legend()"
      ],
      "execution_count": 48,
      "outputs": [
        {
          "output_type": "execute_result",
          "data": {
            "text/plain": [
              "<matplotlib.legend.Legend at 0x7fbd4ada54a8>"
            ]
          },
          "metadata": {
            "tags": []
          },
          "execution_count": 48
        },
        {
          "output_type": "display_data",
          "data": {
            "image/png": "[encoded data removed]",
            "text/plain": [
              "<Figure size 432x288 with 1 Axes>"
            ]
          },
          "metadata": {
            "tags": []
          }
        }
      ]
    },
    {
      "cell_type": "markdown",
      "metadata": {
        "id": "D0WqqmIiTHoY",
        "colab_type": "text"
      },
      "source": [
        "### Visualize all"
      ]
    },
    {
      "cell_type": "code",
      "metadata": {
        "colab_type": "code",
        "outputId": "4160b653-7f24-4284-88b4-609432e503ab",
        "id": "oNCam-CtTlAW",
        "colab": {
          "base_uri": "https://localhost:8080/",
          "height": 34
        }
      },
      "source": [
        "char_counter2.most_common(5)"
      ],
      "execution_count": 49,
      "outputs": [
        {
          "output_type": "execute_result",
          "data": {
            "text/plain": [
              "[('KNIGHT', 58), ('FATHER', 53), ('Arthur', 36), ('HEAD', 36), ('KNIGHTS', 27)]"
            ]
          },
          "metadata": {
            "tags": []
          },
          "execution_count": 49
        }
      ]
    },
    {
      "cell_type": "code",
      "metadata": {
        "colab_type": "code",
        "id": "Uv63xSimTlAb",
        "colab": {}
      },
      "source": [
        "names, _ = zip(*char_counter2.most_common(5))"
      ],
      "execution_count": 0,
      "outputs": []
    },
    {
      "cell_type": "code",
      "metadata": {
        "colab_type": "code",
        "id": "ekEirwPqTlAe",
        "colab": {}
      },
      "source": [
        "from collections import defaultdict\n",
        "\n",
        "import matplotlib.pyplot as plt"
      ],
      "execution_count": 0,
      "outputs": []
    },
    {
      "cell_type": "code",
      "metadata": {
        "colab_type": "code",
        "id": "B_WuRbgYTlAg",
        "colab": {}
      },
      "source": [
        "indexes = defaultdict(list)\n",
        "\n",
        "for token in holy_grail2:\n",
        "    if token.text in names:\n",
        "        indexes[token.text].append(token.i)"
      ],
      "execution_count": 0,
      "outputs": []
    },
    {
      "cell_type": "code",
      "metadata": {
        "colab_type": "code",
        "outputId": "f2576bc2-d2e0-480f-8b72-9edff5af8a7b",
        "id": "yKL5yFmKTlAj",
        "colab": {
          "base_uri": "https://localhost:8080/",
          "height": 312
        }
      },
      "source": [
        "fig, axes = plt.subplots(5, sharex=True)\n",
        "\n",
        "for ii, name in enumerate(names):\n",
        "    axes[ii].eventplot(indexes[name], label=name, color=\"C{}\".format(ii))\n",
        "    axes[ii].get_yaxis().set_visible(False)\n",
        "\n",
        "fig.legend()"
      ],
      "execution_count": 53,
      "outputs": [
        {
          "output_type": "execute_result",
          "data": {
            "text/plain": [
              "<matplotlib.legend.Legend at 0x7fbd4ad19588>"
            ]
          },
          "metadata": {
            "tags": []
          },
          "execution_count": 53
        },
        {
          "output_type": "display_data",
          "data": {
            "image/png": "[encoded data removed]",
            "text/plain": [
              "<Figure size 432x288 with 5 Axes>"
            ]
          },
          "metadata": {
            "tags": []
          }
        }
      ]
    },
    {
      "cell_type": "markdown",
      "metadata": {
        "id": "WJTnDhDzUnAx",
        "colab_type": "text"
      },
      "source": [
        "## Your turn:\n",
        "\n",
        "* Try to plot the NOUNS and clean the Doc whenever necessary adding special cases\n",
        "\n",
        "* Try the same exercise with [this file in the GitHub repo](https://github.com/vfp1/bts-mbds-data-science-foundations-2019/raw/master/sessions/data/pride_and_prejudice.txt)"
      ]
    },
    {
      "cell_type": "code",
      "metadata": {
        "id": "Yi1SIWOoU81W",
        "colab_type": "code",
        "colab": {}
      },
      "source": [
        ""
      ],
      "execution_count": 0,
      "outputs": []
    }
  ]
}