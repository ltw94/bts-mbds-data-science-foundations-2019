{
  "nbformat": 4,
  "nbformat_minor": 0,
  "metadata": {
    "colab": {
      "name": "DSF_WEEK3_EXERCICES.ipynb",
      "provenance": [],
      "collapsed_sections": []
    },
    "kernelspec": {
      "name": "python3",
      "display_name": "Python 3"
    },
    "accelerator": "GPU"
  },
  "cells": [
    {
      "cell_type": "markdown",
      "metadata": {
        "id": "_a2hajcA99-K",
        "colab_type": "text"
      },
      "source": [
        "![BTS](https://github.com/vfp1/bts-mbds-data-science-foundations-2019/blob/master/sessions/img/Logo-BTS.jpg?raw=1)\n",
        "\n",
        "# WEEK 3: Image processing exercises\n",
        "\n",
        "### Victor F. Pajuelo Madrigal <victor.pajuelo@bts.tech> - Data Science Foundations (2019-10-22)\n",
        "\n",
        "Open this notebook in Google Colaboratory: [![Open in Colab](https://colab.research.google.com/assets/colab-badge.svg)](https://colab.research.google.com/github/vfp1/bts-mbds-data-science-foundations-2019/blob/master/sessions/06_Image_processing.ipynb)\n",
        "\n",
        "**Resources:**\n",
        "\n",
        "* [SciPy](https://scipy.org)\n",
        "* [Scipy Lectures](https://scipy-lectures.org)\n",
        "* [NumPy](https://numpy.org)"
      ]
    },
    {
      "cell_type": "markdown",
      "metadata": {
        "id": "XrA3YsGkQVY4",
        "colab_type": "text"
      },
      "source": [
        "# EXERCISE 1: image filtering [OBLIGATORY]\n",
        "\n",
        "From the datasets (images) available from [skimage data](https://scikit-image.org/docs/dev/api/skimage.data.html), choose an **RGB** image and do the following:\n",
        "\n",
        "* Crop the image\n",
        "* Smoothen the image with a kernel filter.\n",
        "* Sharpen the image with a kernel filter\n",
        "* Find the edges of the image with at least two different methods.\n",
        "* From the processes above, save the image that you prefer as a .jpg\n",
        "\n"
      ]
    },
    {
      "cell_type": "markdown",
      "metadata": {
        "id": "x06mIjnYAUeN",
        "colab_type": "text"
      },
      "source": [
        "# EXERCISE 2: image segmentation [OBLIGATORY]\n",
        "\n",
        "Take a picture with your phone or your camera of some objects that you want to count. (Beware: try to take high contrast images with a stable background).\n",
        "\n",
        "* Load the image with scikit image\n",
        "* Count the objects in the image using region based segmentation\n",
        "* Try to fix the image using opening/closing algorithms\n",
        "\n"
      ]
    },
    {
      "cell_type": "code",
      "metadata": {
        "id": "z9gY5SM-Gz9h",
        "colab_type": "code",
        "colab": {}
      },
      "source": [
        ""
      ],
      "execution_count": 0,
      "outputs": []
    }
  ]
}
