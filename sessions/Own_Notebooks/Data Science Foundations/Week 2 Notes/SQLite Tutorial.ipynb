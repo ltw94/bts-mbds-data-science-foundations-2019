{
 "cells": [
  {
   "cell_type": "markdown",
   "metadata": {},
   "source": [
    "https://www.youtube.com/watch?v=o-vsdfCBpsU"
   ]
  },
  {
   "cell_type": "code",
   "execution_count": 1,
   "metadata": {},
   "outputs": [],
   "source": [
    "import sqlite3\n",
    "\n",
    "conn = sqlite3.connect('/users/laurencewilliams/BTS/Test/testtutorial.db')\n",
    "c = conn.cursor()\n",
    "\n",
    "def create_table():\n",
    "    c.execute(\"CREATE TABLE IF NOT EXISTS banana(unix REAL, datestamp TEXT, keyword TEXT, value REAL, day TEXT)\")\n",
    "    \n",
    "def data_entry():\n",
    "    c.execute(\"INSERT INTO banana VALUES(1111, '12-12-2012', 'poop', 9999, 'Sun')\")\n",
    "    conn.commit()\n",
    "\n",
    "#create table\n",
    "create_table()\n",
    "data_entry()"
   ]
  },
  {
   "cell_type": "code",
   "execution_count": 2,
   "metadata": {},
   "outputs": [],
   "source": [
    "import datetime\n",
    "import time\n",
    "import random\n",
    "\n",
    "def dynamic_data_entry():\n",
    "    unix = time.time()\n",
    "    date = str(datetime.datetime.fromtimestamp(unix).strftime('%Y-%m-%d %H:%M:%S'))\n",
    "    keyword = 'pooppoop'\n",
    "    value = random.randrange(0,10)\n",
    "    day = random.choice(['thur', 'fri', 'sat', 'sun'])\n",
    "    \n",
    "    c.execute(\"INSERT INTO banana(unix, datestamp, keyword, value, day) VALUES (?, ?, ?, ?, ?)\",\n",
    "              (unix, date, keyword, value, day))\n",
    "    conn.commit()\n",
    "    \n",
    "    #HERE, however, we do not add c.close(), conn.close() because then it would mean we open and close for each\n",
    "    #entry point (range of 0 to 10) which is highly inefficient.\n",
    "\n",
    "#INSTEAD, we can run a for loop when executing this function\n",
    "\n",
    "for i in range(0,10):\n",
    "    dynamic_data_entry()\n",
    "    time.sleep(1) #this is merely to show a 1 second timestamp difference for each entry\n",
    "#this way we close only at the end, making it more efficient."
   ]
  },
  {
   "cell_type": "code",
   "execution_count": 3,
   "metadata": {},
   "outputs": [
    {
     "data": {
      "text/plain": [
       "'sun'"
      ]
     },
     "execution_count": 3,
     "metadata": {},
     "output_type": "execute_result"
    }
   ],
   "source": [
    "import random\n",
    "random.choice(['sun', 'sat', 'fri'])"
   ]
  },
  {
   "cell_type": "markdown",
   "metadata": {},
   "source": [
    "<img src = \"image.jpg\">"
   ]
  },
  {
   "cell_type": "code",
   "execution_count": 4,
   "metadata": {},
   "outputs": [],
   "source": [
    "def read_from_db():\n",
    "    c.execute(\"SELECT datestamp, day FROM banana WHERE day IN ('sun', 'sat')\") #merely selects\n",
    "    for row in c.fetchall():\n",
    "        print(row)"
   ]
  },
  {
   "cell_type": "code",
   "execution_count": 7,
   "metadata": {},
   "outputs": [
    {
     "name": "stdout",
     "output_type": "stream",
     "text": [
      "('2019-10-10 15:38:44', 'sun')\n",
      "('2019-10-10 15:38:45', 'sun')\n",
      "('2019-10-10 15:38:47', 'sat')\n",
      "('2019-10-10 15:38:51', 'sun')\n",
      "('2019-10-10 15:49:29', 'sun')\n",
      "('2019-10-10 15:49:31', 'sun')\n",
      "('2019-10-10 15:49:32', 'sat')\n",
      "('2019-10-10 15:49:33', 'sun')\n",
      "('2019-10-10 15:49:34', 'sun')\n",
      "('2019-10-10 15:49:35', 'sat')\n",
      "('2019-10-10 15:49:36', 'sun')\n",
      "('2019-10-10 15:49:37', 'sun')\n"
     ]
    }
   ],
   "source": [
    "read_from_db()"
   ]
  },
  {
   "cell_type": "code",
   "execution_count": 8,
   "metadata": {},
   "outputs": [],
   "source": [
    "c.close()\n",
    "conn.close()"
   ]
  },
  {
   "cell_type": "code",
   "execution_count": null,
   "metadata": {},
   "outputs": [],
   "source": []
  },
  {
   "cell_type": "code",
   "execution_count": null,
   "metadata": {},
   "outputs": [],
   "source": []
  },
  {
   "cell_type": "code",
   "execution_count": null,
   "metadata": {},
   "outputs": [],
   "source": []
  },
  {
   "cell_type": "code",
   "execution_count": 2,
   "metadata": {},
   "outputs": [],
   "source": [
    "#Routes"
   ]
  },
  {
   "cell_type": "code",
   "execution_count": 3,
   "metadata": {},
   "outputs": [],
   "source": [
    "#We need to join destinatin ID with Source ID for routes;\n",
    "#IN SQL: FROM routes INNER JOIN airport source-air ON source_aikr.id = routes.source_id\n",
    "#Note the syntax INNER JOIN...ON"
   ]
  },
  {
   "cell_type": "code",
   "execution_count": 4,
   "metadata": {},
   "outputs": [],
   "source": [
    "#CAST gets values of a table and column and put sit AS TEXT for example."
   ]
  },
  {
   "cell_type": "code",
   "execution_count": null,
   "metadata": {},
   "outputs": [],
   "source": []
  }
 ],
 "metadata": {
  "kernelspec": {
   "display_name": "Python 3",
   "language": "python",
   "name": "python3"
  },
  "language_info": {
   "codemirror_mode": {
    "name": "ipython",
    "version": 3
   },
   "file_extension": ".py",
   "mimetype": "text/x-python",
   "name": "python",
   "nbconvert_exporter": "python",
   "pygments_lexer": "ipython3",
   "version": "3.7.3"
  }
 },
 "nbformat": 4,
 "nbformat_minor": 2
}
